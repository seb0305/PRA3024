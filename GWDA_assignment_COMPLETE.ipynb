{
  "nbformat": 4,
  "nbformat_minor": 0,
  "metadata": {
    "colab": {
      "name": "GWDA_assignment_COMPLETE",
      "provenance": [],
      "collapsed_sections": []
    },
    "kernelspec": {
      "name": "python3",
      "display_name": "Python 3"
    }
  },
  "cells": [
    {
      "cell_type": "markdown",
      "metadata": {
        "id": "Cu4jVKYqQQXQ"
      },
      "source": [
        "# **PART 1**"
      ]
    },
    {
      "cell_type": "markdown",
      "metadata": {
        "id": "oP-Tqrx4MRc-"
      },
      "source": [
        "**Install pycbc**"
      ]
    },
    {
      "cell_type": "code",
      "metadata": {
        "colab": {
          "base_uri": "https://localhost:8080/"
        },
        "id": "tgm4EvjaLqVZ",
        "outputId": "55e8f8b3-880f-4c62-f159-b75f176a25d5"
      },
      "source": [
        "import sys\r\n",
        "!{sys.executable} -m pip install lalsuite pycbc\r\n"
      ],
      "execution_count": 1,
      "outputs": [
        {
          "output_type": "stream",
          "text": [
            "Requirement already satisfied: lalsuite in /usr/local/lib/python3.6/dist-packages (6.82)\n",
            "Requirement already satisfied: pycbc in /usr/local/lib/python3.6/dist-packages (1.17.0)\n",
            "Requirement already satisfied: ligo-segments in /usr/local/lib/python3.6/dist-packages (from lalsuite) (1.3.0)\n",
            "Requirement already satisfied: python-dateutil in /usr/local/lib/python3.6/dist-packages (from lalsuite) (2.8.1)\n",
            "Requirement already satisfied: importlib-resources; python_version < \"3.7\" in /usr/local/lib/python3.6/dist-packages (from lalsuite) (5.1.0)\n",
            "Requirement already satisfied: scipy in /usr/local/lib/python3.6/dist-packages (from lalsuite) (1.4.1)\n",
            "Requirement already satisfied: lscsoft-glue in /usr/local/lib/python3.6/dist-packages (from lalsuite) (2.0.0)\n",
            "Requirement already satisfied: numpy>=1.7 in /usr/local/lib/python3.6/dist-packages (from lalsuite) (1.19.5)\n",
            "Requirement already satisfied: matplotlib in /usr/local/lib/python3.6/dist-packages (from lalsuite) (3.2.2)\n",
            "Requirement already satisfied: jinja2 in /usr/local/lib/python3.6/dist-packages (from pycbc) (2.11.3)\n",
            "Requirement already satisfied: Mako>=1.0.1 in /usr/local/lib/python3.6/dist-packages (from pycbc) (1.1.4)\n",
            "Requirement already satisfied: cython>=0.29 in /usr/local/lib/python3.6/dist-packages (from pycbc) (0.29.21)\n",
            "Requirement already satisfied: astropy>=2.0.3; python_version > \"3.0\" in /usr/local/lib/python3.6/dist-packages (from pycbc) (4.1)\n",
            "Requirement already satisfied: requests>=1.2.1 in /usr/local/lib/python3.6/dist-packages (from pycbc) (2.23.0)\n",
            "Requirement already satisfied: beautifulsoup4>=4.6.0 in /usr/local/lib/python3.6/dist-packages (from pycbc) (4.6.3)\n",
            "Requirement already satisfied: tqdm in /usr/local/lib/python3.6/dist-packages (from pycbc) (4.41.1)\n",
            "Requirement already satisfied: h5py>=2.5 in /usr/local/lib/python3.6/dist-packages (from pycbc) (2.10.0)\n",
            "Requirement already satisfied: mpld3>=0.3 in /usr/local/lib/python3.6/dist-packages (from pycbc) (0.5.2)\n",
            "Requirement already satisfied: six>=1.10.0 in /usr/local/lib/python3.6/dist-packages (from pycbc) (1.15.0)\n",
            "Requirement already satisfied: pillow in /usr/local/lib/python3.6/dist-packages (from pycbc) (7.0.0)\n",
            "Requirement already satisfied: gwdatafind in /usr/local/lib/python3.6/dist-packages (from pycbc) (1.0.4)\n",
            "Requirement already satisfied: decorator>=3.4.2 in /usr/local/lib/python3.6/dist-packages (from pycbc) (4.4.2)\n",
            "Requirement already satisfied: emcee==2.2.1 in /usr/local/lib/python3.6/dist-packages (from pycbc) (2.2.1)\n",
            "Requirement already satisfied: zipp>=0.4; python_version < \"3.8\" in /usr/local/lib/python3.6/dist-packages (from importlib-resources; python_version < \"3.7\"->lalsuite) (3.4.0)\n",
            "Requirement already satisfied: pyOpenSSL in /usr/local/lib/python3.6/dist-packages (from lscsoft-glue->lalsuite) (20.0.1)\n",
            "Requirement already satisfied: cycler>=0.10 in /usr/local/lib/python3.6/dist-packages (from matplotlib->lalsuite) (0.10.0)\n",
            "Requirement already satisfied: kiwisolver>=1.0.1 in /usr/local/lib/python3.6/dist-packages (from matplotlib->lalsuite) (1.3.1)\n",
            "Requirement already satisfied: pyparsing!=2.0.4,!=2.1.2,!=2.1.6,>=2.0.1 in /usr/local/lib/python3.6/dist-packages (from matplotlib->lalsuite) (2.4.7)\n",
            "Requirement already satisfied: MarkupSafe>=0.23 in /usr/local/lib/python3.6/dist-packages (from jinja2->pycbc) (1.1.1)\n",
            "Requirement already satisfied: chardet<4,>=3.0.2 in /usr/local/lib/python3.6/dist-packages (from requests>=1.2.1->pycbc) (3.0.4)\n",
            "Requirement already satisfied: idna<3,>=2.5 in /usr/local/lib/python3.6/dist-packages (from requests>=1.2.1->pycbc) (2.10)\n",
            "Requirement already satisfied: urllib3!=1.25.0,!=1.25.1,<1.26,>=1.21.1 in /usr/local/lib/python3.6/dist-packages (from requests>=1.2.1->pycbc) (1.24.3)\n",
            "Requirement already satisfied: certifi>=2017.4.17 in /usr/local/lib/python3.6/dist-packages (from requests>=1.2.1->pycbc) (2020.12.5)\n",
            "Requirement already satisfied: cryptography>=3.2 in /usr/local/lib/python3.6/dist-packages (from pyOpenSSL->lscsoft-glue->lalsuite) (3.4.6)\n",
            "Requirement already satisfied: cffi>=1.12 in /usr/local/lib/python3.6/dist-packages (from cryptography>=3.2->pyOpenSSL->lscsoft-glue->lalsuite) (1.14.4)\n",
            "Requirement already satisfied: pycparser in /usr/local/lib/python3.6/dist-packages (from cffi>=1.12->cryptography>=3.2->pyOpenSSL->lscsoft-glue->lalsuite) (2.20)\n"
          ],
          "name": "stdout"
        }
      ]
    },
    {
      "cell_type": "markdown",
      "metadata": {
        "id": "AjiuvHeEMM09"
      },
      "source": [
        "**List of approximants**"
      ]
    },
    {
      "cell_type": "code",
      "metadata": {
        "colab": {
          "base_uri": "https://localhost:8080/"
        },
        "id": "jVjmLmqRLxb3",
        "outputId": "50ffabe0-797c-4cde-c13a-53edfd20601f"
      },
      "source": [
        "from pycbc.waveform import td_approximants, fd_approximants\r\n",
        "\r\n",
        "# List of td approximants that are currently available\r\n",
        "print(td_approximants())"
      ],
      "execution_count": 2,
      "outputs": [
        {
          "output_type": "stream",
          "text": [
            "['TaylorT1', 'TaylorT2', 'TaylorT3', 'SpinTaylorT1', 'SpinTaylorT4', 'SpinTaylorT5', 'PhenSpinTaylor', 'PhenSpinTaylorRD', 'EOBNRv2', 'EOBNRv2HM', 'TEOBResum_ROM', 'SEOBNRv1', 'SEOBNRv2', 'SEOBNRv2_opt', 'SEOBNRv3', 'SEOBNRv3_pert', 'SEOBNRv3_opt', 'SEOBNRv3_opt_rk4', 'SEOBNRv4', 'SEOBNRv4_opt', 'SEOBNRv4P', 'SEOBNRv4PHM', 'SEOBNRv2T', 'SEOBNRv4T', 'SEOBNRv4_ROM_NRTidalv2', 'SEOBNRv4_ROM_NRTidalv2_NSBH', 'HGimri', 'IMRPhenomA', 'IMRPhenomB', 'IMRPhenomC', 'IMRPhenomD', 'IMRPhenomD_NRTidalv2', 'IMRPhenomNSBH', 'IMRPhenomHM', 'IMRPhenomPv2', 'IMRPhenomPv2_NRTidal', 'IMRPhenomPv2_NRTidalv2', 'TaylorEt', 'TaylorT4', 'EccentricTD', 'SpinDominatedWf', 'NR_hdf5', 'NRSur7dq2', 'NRSur7dq4', 'SEOBNRv4HM', 'NRHybSur3dq8', 'IMRPhenomXAS', 'IMRPhenomXHM', 'IMRPhenomPv3', 'IMRPhenomPv3HM', 'IMRPhenomXP', 'IMRPhenomXPHM', 'TEOBResumS', 'IMRPhenomT', 'IMRPhenomTHM', 'TaylorF2', 'SEOBNRv1_ROM_EffectiveSpin', 'SEOBNRv1_ROM_DoubleSpin', 'SEOBNRv2_ROM_EffectiveSpin', 'SEOBNRv2_ROM_DoubleSpin', 'EOBNRv2_ROM', 'EOBNRv2HM_ROM', 'SEOBNRv2_ROM_DoubleSpin_HI', 'SEOBNRv4_ROM', 'IMRPhenomD_NRTidal', 'SpinTaylorF2', 'TaylorF2NL', 'PreTaylorF2', 'SpinTaylorF2_SWAPPER']\n"
          ],
          "name": "stdout"
        }
      ]
    },
    {
      "cell_type": "markdown",
      "metadata": {
        "id": "iosy91b_L4PV"
      },
      "source": [
        "**Load the dataset**"
      ]
    },
    {
      "cell_type": "code",
      "metadata": {
        "colab": {
          "base_uri": "https://localhost:8080/"
        },
        "id": "p2-WsjbiL5PF",
        "outputId": "7efd76b2-5ffd-43ec-8ed8-1020e5873780"
      },
      "source": [
        "!wget -nc https://dcc.ligo.org/public/0146/P1700349/001/H-H1_LOSC_CLN_4_V1-1187007040-2048.gwf\r\n",
        "!wget -nc https://dcc.ligo.org/public/0146/P1700349/001/L-L1_LOSC_CLN_4_V1-1187007040-2048.gwf"
      ],
      "execution_count": 3,
      "outputs": [
        {
          "output_type": "stream",
          "text": [
            "File ‘H-H1_LOSC_CLN_4_V1-1187007040-2048.gwf’ already there; not retrieving.\n",
            "\n",
            "File ‘L-L1_LOSC_CLN_4_V1-1187007040-2048.gwf’ already there; not retrieving.\n",
            "\n"
          ],
          "name": "stdout"
        }
      ]
    },
    {
      "cell_type": "markdown",
      "metadata": {
        "id": "sGysAKKyMAPQ"
      },
      "source": [
        "**Load the strain data**"
      ]
    },
    {
      "cell_type": "code",
      "metadata": {
        "colab": {
          "base_uri": "https://localhost:8080/",
          "height": 573
        },
        "id": "slH8WbmAL7UW",
        "outputId": "f46f5828-6d35-40a9-ba42-6c8c6bf508c1"
      },
      "source": [
        "import pylab\r\n",
        "from pycbc.catalog import Merger\r\n",
        "from pycbc.frame import read_frame\r\n",
        "from pycbc.filter import highpass\r\n",
        "merger = Merger(\"GW170817\")\r\n",
        "strain, stilde = {}, {}\r\n",
        "for ifo in ['H1', 'L1']:\r\n",
        " ts = read_frame(\"{}-{}_LOSC_CLN_4_V1-1187007040-2048.gwf\".format(ifo[0], ifo),\r\n",
        " '{}:LOSC-STRAIN'.format(ifo),\r\n",
        " start_time=merger.time - 224,\r\n",
        " end_time=merger.time + 32,\r\n",
        " check_integrity=False)\r\n",
        " strain[ifo] = highpass(ts, 15)\r\n",
        " strain[ifo] = strain[ifo].crop(4, 4)\r\n",
        " stilde[ifo] = strain[ifo].to_frequencyseries()\r\n",
        "#Plot strains\r\n",
        "pylab.plot(strain['H1'].sample_times, strain['H1'])\r\n",
        "pylab.xlabel('Time (s)')\r\n",
        "pylab.ylabel('Strain(1/(Hz)^1/2)')\r\n",
        "pylab.title('H1 strain')\r\n",
        "pylab.show()\r\n",
        "pylab.plot(strain['L1'].sample_times, strain['L1'])\r\n",
        "pylab.xlabel('Time (s)')\r\n",
        "pylab.ylabel('Strain(1/(Hz)^1/2)')\r\n",
        "pylab.title('L1 strain')\r\n",
        "pylab.show()"
      ],
      "execution_count": 4,
      "outputs": [
        {
          "output_type": "display_data",
          "data": {
            "image/png": "[encoded data removed]",
            "text/plain": [
              "<Figure size 432x288 with 1 Axes>"
            ]
          },
          "metadata": {
            "tags": [],
            "needs_background": "light"
          }
        },
        {
          "output_type": "display_data",
          "data": {
            "image/png": "[encoded data removed]",
            "text/plain": [
              "<Figure size 432x288 with 1 Axes>"
            ]
          },
          "metadata": {
            "tags": [],
            "needs_background": "light"
          }
        }
      ]
    },
    {
      "cell_type": "markdown",
      "metadata": {
        "id": "d0LZ2MpwNIMA"
      },
      "source": [
        "**Data Analysis**"
      ]
    },
    {
      "cell_type": "code",
      "metadata": {
        "colab": {
          "base_uri": "https://localhost:8080/",
          "height": 316
        },
        "id": "dOBcyemVNIXe",
        "outputId": "3e10e914-ec3b-4f27-f9de-faa1f176ded8"
      },
      "source": [
        "import pycbc.psd\r\n",
        "from pycbc.psd import interpolate\r\n",
        "\r\n",
        "psds = {}\r\n",
        "for ifo in ['L1', 'H1']:\r\n",
        "\r\n",
        "    delta_t = strain[ifo].delta_t\r\n",
        "    seg_len = int(2 / delta_t)\r\n",
        "    seg_stride = int(seg_len / 2)\r\n",
        "    psds[ifo]  = pycbc.psd.welch(strain[ifo],\r\n",
        "                      seg_len=seg_len,\r\n",
        "                      seg_stride=seg_stride)\r\n",
        "    \r\n",
        "    psds[ifo] = interpolate(psds[ifo], stilde[ifo].delta_f)\r\n",
        "\r\n",
        "    pylab.loglog(psds[ifo].sample_frequencies, psds[ifo], label=ifo)\r\n",
        "    pylab.xlim(20, 1024)\r\n",
        "    pylab.ylim(1e-47, 1e-42)\r\n",
        "pylab.legend()\r\n",
        "pylab.title('Power Spectral Density of the Data')\r\n",
        "pylab.xlabel('Frequency (Hz)')\r\n",
        "pylab.ylabel('Strain')"
      ],
      "execution_count": 5,
      "outputs": [
        {
          "output_type": "execute_result",
          "data": {
            "text/plain": [
              "Text(0, 0.5, 'Strain')"
            ]
          },
          "metadata": {
            "tags": []
          },
          "execution_count": 5
        },
        {
          "output_type": "display_data",
          "data": {
            "image/png": "[encoded data removed]",
            "text/plain": [
              "<Figure size 432x288 with 1 Axes>"
            ]
          },
          "metadata": {
            "tags": [],
            "needs_background": "light"
          }
        }
      ]
    },
    {
      "cell_type": "code",
      "metadata": {
        "colab": {
          "base_uri": "https://localhost:8080/"
        },
        "id": "c4C0nTqQNozo",
        "outputId": "434454d3-ec4d-4a8f-b64b-afcf451bc35d"
      },
      "source": [
        "#delta_f for the psd data itself\r\n",
        "psds[ifo].delta_f"
      ],
      "execution_count": 6,
      "outputs": [
        {
          "output_type": "execute_result",
          "data": {
            "text/plain": [
              "0.004032258064516129"
            ]
          },
          "metadata": {
            "tags": []
          },
          "execution_count": 6
        }
      ]
    },
    {
      "cell_type": "markdown",
      "metadata": {
        "id": "lPDNBsgYOEI_"
      },
      "source": [
        "**Signal-to-Noise**"
      ]
    },
    {
      "cell_type": "code",
      "metadata": {
        "id": "z8IxxAJ7NqS3"
      },
      "source": [
        "from pycbc.waveform import get_fd_waveform\r\n",
        "from pycbc.filter import matched_filter\r\n",
        "import numpy\r\n",
        "\r\n",
        "mass1 = numpy.arange(1.3,1.5,.01) #mass range between 1.3 to 1.5 Solar mass\r\n",
        "mass2 = mass1\r\n",
        "\r\n",
        "hmax, smax, tmax, mmax, nsnr = None, {}, {}, 0, 0\r\n",
        "snrs = {}\r\n",
        "ifo = 'H1'\r\n",
        "Snr_list = []\r\n",
        "for i in range(len(mass1)):\r\n",
        " \r\n",
        "    m = mass1[i]\r\n",
        "    hp, hc = get_fd_waveform(approximant=\"TaylorF2\",\r\n",
        "                     mass1=m,\r\n",
        "                     mass2=m,\r\n",
        "                     delta_f=stilde[ifo].delta_f,\r\n",
        "                     f_lower=20.0)\r\n",
        "\r\n",
        "    # Resize the vector to match data\r\n",
        "    hp.resize(len(stilde[ifo]))\r\n",
        "    template = hp.cyclic_time_shift(hp.start_time)\r\n",
        "    \r\n",
        "    snr = matched_filter(template, stilde[ifo],\r\n",
        "                     psd=psds[ifo], low_frequency_cutoff=20.0)\r\n",
        "\r\n",
        "    # Remove time corrupted by the template filter\r\n",
        "    snr_H1 = snr.crop(4 + 4, 4)\r\n",
        "\r\n",
        "    Snr_list.append(max(abs(snr_H1)))\r\n",
        "snrs[ifo] = Snr_list\r\n",
        "\r\n",
        "ifo = 'L1'\r\n",
        "Snr_list = []\r\n",
        "for i in range(len(mass1)):\r\n",
        " \r\n",
        "    m = mass1[i] \r\n",
        "    hp, hc = get_fd_waveform(approximant=\"TaylorF2\",\r\n",
        "                     mass1=m,\r\n",
        "                     mass2=m,\r\n",
        "                     delta_f=stilde[ifo].delta_f,\r\n",
        "                     f_lower=20.0)\r\n",
        "\r\n",
        "    hp.resize(len(stilde[ifo]))\r\n",
        "    template = hp.cyclic_time_shift(hp.start_time)\r\n",
        "    \r\n",
        "    snr = matched_filter(template, stilde[ifo],\r\n",
        "                     psd=psds[ifo], low_frequency_cutoff=20.0)\r\n",
        "\r\n",
        "    snr_H1 = snr.crop(4 + 4, 4)\r\n",
        "\r\n",
        "    Snr_list.append(max(abs(snr_H1)))\r\n",
        "snrs[ifo] = Snr_list\r\n",
        "\r\n",
        "pylab.figure(figsize=[10, 4])\r\n",
        "pylab.plot(mass1, snrs['H1'], label= 'H1')\r\n",
        "pylab.plot(mass1, snrs['L1'], label= 'L1')\r\n",
        "pylab.legend(['H1','L1'])\r\n",
        "pylab.title('Signal-to-noise for Masses between 1.3 and 1.5')\r\n",
        "pylab.ylabel('Signal-to-noise')\r\n",
        "pylab.xlabel('Mass(M ☉)')\r\n",
        "pylab.show()"
      ],
      "execution_count": null,
      "outputs": []
    },
    {
      "cell_type": "markdown",
      "metadata": {
        "id": "rR4dF7uXOM73"
      },
      "source": [
        "**Find out best mass**"
      ]
    },
    {
      "cell_type": "code",
      "metadata": {
        "id": "URFgWRdJOPNn"
      },
      "source": [
        "masses = numpy.arange(1, 3, .01)\r\n",
        "hmax, smax, tmax, mmax, nsnr = None, {}, {}, 0, 0\r\n",
        "snrs = []\r\n",
        "for m in masses:\r\n",
        " hp, hc = get_fd_waveform(approximant=\"TaylorF2\",\r\n",
        " mass1=m, mass2=m,\r\n",
        " f_lower=20, delta_f=stilde[ifo].delta_f)\r\n",
        " hp.resize(len(stilde[ifo]))\r\n",
        "# Matched filter the data and find the peak\r\n",
        " max_snr, max_time = {}, {}\r\n",
        " for ifo in ['L1', 'H1']:\r\n",
        "  snr = matched_filter(hp, stilde[ifo], psd=psds[ifo],\r\n",
        "  low_frequency_cutoff=20.0)\r\n",
        "# The complex SNR at the peak\r\n",
        "  snr = snr.time_slice(merger.time - 1, merger.time + 1)\r\n",
        "  _, idx = snr.abs_max_loc()\r\n",
        "  max_snr[ifo] = snr[idx]\r\n",
        "# The time of the peak\r\n",
        "  max_time[ifo] = float(idx) / snr.sample_rate + snr.start_time\r\n",
        " network_snr = (abs(numpy.array(list(max_snr.values()))) ** 2.0).sum()** 0.5\r\n",
        " snrs.append(max_snr)\r\n",
        "# Keep track of only the loudest peak\r\n",
        " if network_snr > nsnr:\r\n",
        "  tmax, hmax, mmax, smax = max_time, hp, m, max_snr\r\n",
        "  nsnr = network_snr\r\n",
        "print(\"We found the best Mass1=Mass2 was %2.2f solar masses (detectorframe)\" % mmax)\r\n"
      ],
      "execution_count": null,
      "outputs": []
    },
    {
      "cell_type": "code",
      "metadata": {
        "id": "kegSiXZLOmLH"
      },
      "source": [
        "m = 1.38 # Solar masses\r\n",
        "conditioned = stilde['H1']\r\n",
        "hp, hc = get_fd_waveform(approximant=\"TaylorF2\",\r\n",
        "                     mass1=m,\r\n",
        "                     mass2=m,\r\n",
        "                     delta_f=conditioned.delta_f,\r\n",
        "                     f_lower=20.0)\r\n",
        "\r\n",
        "hp.resize(len(conditioned))\r\n",
        "\r\n",
        "template = hp .cyclic_time_shift(hp.start_time)\r\n",
        "pylab.plot(hp.sample_frequencies, template)\r\n",
        "pylab.xlabel('Time')\r\n",
        "pylab.ylabel('Strain')\r\n",
        "pylab.show()"
      ],
      "execution_count": null,
      "outputs": []
    },
    {
      "cell_type": "markdown",
      "metadata": {
        "id": "Em-W8cLPO97X"
      },
      "source": [
        "**Search for signal**"
      ]
    },
    {
      "cell_type": "code",
      "metadata": {
        "id": "OJ30JgXqO_bf"
      },
      "source": [
        "ifo = 'L1'                            \r\n",
        "conditioned = stilde[ifo]\r\n",
        "snr = matched_filter(template, conditioned,\r\n",
        "                     psd=psds[ifo] , low_frequency_cutoff=20)\r\n",
        "\r\n",
        "snr = snr.crop(4 + 4, 4)\r\n",
        "\r\n",
        "pylab.figure(figsize=[10, 4])\r\n",
        "pylab.plot(snr.sample_times, abs(snr))\r\n",
        "pylab.title('Matched Filter')\r\n",
        "pylab.ylabel('Signal-to-noise')\r\n",
        "pylab.xlabel('Time (s)')\r\n",
        "pylab.show()\r\n",
        "\r\n",
        "peak = abs(snr).numpy().argmax()\r\n",
        "snrp = snr[peak]\r\n",
        "time = snr.sample_times[peak]\r\n",
        "\r\n",
        "print(\"We found a signal at {}s with SNR {}\".format(time, \r\n",
        "                                                    abs(snrp)))"
      ],
      "execution_count": null,
      "outputs": []
    },
    {
      "cell_type": "code",
      "metadata": {
        "id": "__IATS5BPFGw"
      },
      "source": [
        "from pycbc.filter import sigma\r\n",
        "\r\n",
        "# Shift the template to the peak time\r\n",
        "dt = time - conditioned.start_time\r\n",
        "aligned = template.cyclic_time_shift(dt)\r\n",
        "\r\n",
        "# scale the template so that it would have SNR 1 in this data\r\n",
        "aligned /= sigma(aligned, psd=psds[ifo], low_frequency_cutoff=20.0)\r\n",
        "\r\n",
        "# Scale the template amplitude and phase to the peak value\r\n",
        "aligned = (aligned.to_frequencyseries() * snrp).to_timeseries()\r\n",
        "aligned.start_time = conditioned.start_time"
      ],
      "execution_count": null,
      "outputs": []
    },
    {
      "cell_type": "code",
      "metadata": {
        "id": "DO53m7HKPFsH"
      },
      "source": [
        "white_data = (conditioned.to_frequencyseries() / psds[ifo]**0.5).to_timeseries()\r\n",
        "\r\n",
        "# apply a smoothing of the turnon of the template to avoid a transient\r\n",
        "# from the sharp turn on in the waveform.\r\n",
        "tapered = aligned.highpass_fir(20, 512, remove_corrupted=False)\r\n",
        "white_template = (tapered.to_frequencyseries() / psds[ifo]**0.5).to_timeseries()\r\n",
        "\r\n",
        "white_data = white_data.highpass_fir(20., 512).lowpass_fir(300, 512)\r\n",
        "white_template = white_template.highpass_fir(20., 512).lowpass_fir(300, 512)\r\n",
        "\r\n",
        "# Select the time around the merger\r\n",
        "white_data = white_data.time_slice(merger.time-.2, merger.time+.1)\r\n",
        "white_template = white_template.time_slice(merger.time-.2, merger.time+.1)\r\n",
        "\r\n",
        "pylab.figure(figsize=[15, 3])\r\n",
        "pylab.plot(white_data.sample_times, white_data, label=\"Data\")\r\n",
        "pylab.plot(white_template.sample_times, white_template, label=\"Template\")\r\n",
        "pylab.legend()\r\n",
        "pylab.show()"
      ],
      "execution_count": null,
      "outputs": []
    },
    {
      "cell_type": "code",
      "metadata": {
        "id": "qNMU2xJ-POeZ"
      },
      "source": [
        "from pycbc.waveform import get_td_waveform\r\n",
        "from pycbc.detector import Detector\r\n",
        "\r\n",
        "apx = 'EOBNRv2'\r\n",
        "# NOTE: Inclination runs from 0 to pi, with poles at 0 and pi\r\n",
        "#       coa_phase runs from 0 to 2 pi.\r\n",
        "hp, hc = get_td_waveform(approximant=apx,\r\n",
        "                         mass1=10,\r\n",
        "                         mass2=10,\r\n",
        "                         delta_t=1.0/4096,\r\n",
        "                         f_lower=30)\r\n",
        "\r\n",
        "det_h1 = Detector('H1')\r\n",
        "\r\n",
        "# Choose a GPS end time, sky location, and polarization phase for the merger\r\n",
        "# NOTE: Right ascension and polarization phase runs from 0 to 2pi\r\n",
        "#       Declination runs from pi/2. to -pi/2 with the poles at pi/2. and -pi/2.\r\n",
        "end_time = 1192529720\r\n",
        "declination = 0.65\r\n",
        "right_ascension = 4.67\r\n",
        "polarization = 2.34\r\n",
        "hp.start_time += end_time\r\n",
        "hc.start_time += end_time\r\n",
        "\r\n",
        "signal_h1 = det_h1.project_wave(hp, hc,  right_ascension, declination, polarization)\r\n",
        "\r\n",
        "pylab.plot(signal_h1.sample_times, signal_h1, label='H1')\r\n",
        "\r\n",
        "pylab.ylabel('Strain')\r\n",
        "pylab.xlabel('Time (s)')\r\n",
        "pylab.title('EOBNRv2 Waveform')\r\n",
        "pylab.legend()\r\n",
        "pylab.show()"
      ],
      "execution_count": null,
      "outputs": []
    },
    {
      "cell_type": "code",
      "metadata": {
        "id": "9fNNbgt1PeXp"
      },
      "source": [
        "from pycbc.psd import aLIGOZeroDetHighPower\r\n",
        "from pycbc.filter import match\r\n",
        "\r\n",
        "f_low = 30\r\n",
        "sample_rate = 4096\r\n",
        "\r\n",
        "mass_1 = numpy.arange(5,15,.1) #mass range between 5 to 15 Solar mass\r\n",
        "mass_2 = mass_1\r\n",
        "\r\n",
        "match_list = []\r\n",
        "m_list = []\r\n",
        "apx = 'TaylorT4'\r\n",
        "\r\n",
        "for i in range(len(mass_1)):\r\n",
        " \r\n",
        " m_1=mass_1[i].astype(float)\r\n",
        " m_list.append(m_1)\r\n",
        " sp, sc = get_td_waveform(approximant=apx,\r\n",
        "                         mass1=m_1,\r\n",
        "                         mass2=m_1,\r\n",
        "                         delta_t=1.0/4096,\r\n",
        "                         f_lower=30)\r\n",
        "\r\n",
        " det_h1 = Detector('H1')\r\n",
        "\r\n",
        " end_time = 1192529720\r\n",
        " declination = 0.65\r\n",
        " right_ascension = 4.67\r\n",
        " polarization = 2.34\r\n",
        " sp.start_time += end_time\r\n",
        " sc.start_time += end_time\r\n",
        "\r\n",
        " signal_h1 = det_h1.project_wave(sp, sc,  right_ascension, declination, polarization)\r\n",
        "\r\n",
        " # Resize the waveforms to the same length\r\n",
        " tlen = max(len(sp), len(hp))\r\n",
        " sp.resize(tlen)\r\n",
        " hp.resize(tlen)\r\n",
        " # Generate the aLIGO ZDHP PSD\r\n",
        " delta_f = 1.0 / sp.duration\r\n",
        " flen = tlen//2 + 1\r\n",
        " psd = aLIGOZeroDetHighPower(flen, delta_f, f_low)\r\n",
        " m, i = match(hp, sp, psd=psd, low_frequency_cutoff=f_low)\r\n",
        " match_list.append(m)"
      ],
      "execution_count": null,
      "outputs": []
    },
    {
      "cell_type": "markdown",
      "metadata": {
        "id": "-JmRP2MgPpWB"
      },
      "source": [
        "**Plot of the Matches for different Masses**"
      ]
    },
    {
      "cell_type": "code",
      "metadata": {
        "id": "22siEZkZPpfZ"
      },
      "source": [
        "pylab.figure(figsize=[10, 4])\r\n",
        "pylab.plot(m_list,match_list, label= 'H1',marker='o',linestyle='None')\r\n",
        "pylab.ylabel('Match')\r\n",
        "pylab.ylim(0, 1.0)\r\n",
        "pylab.title('Plot of the Matches for different masses')\r\n",
        "pylab.xlabel('Mass(M ☉)')\r\n",
        "pylab.show()"
      ],
      "execution_count": null,
      "outputs": []
    },
    {
      "cell_type": "markdown",
      "metadata": {
        "id": "IRjmlXqdQIQt"
      },
      "source": [
        "# **PART 2**"
      ]
    },
    {
      "cell_type": "markdown",
      "metadata": {
        "id": "oCIf4g6dQMth"
      },
      "source": [
        "**Load Data**"
      ]
    },
    {
      "cell_type": "code",
      "metadata": {
        "id": "CZ18xKrxP-LQ"
      },
      "source": [
        "import numpy as np\r\n",
        "d = np.load('/content/noise_ts_4096Hz.npy')\r\n",
        "dt = d[:, 0]\r\n",
        "d = pycbc.types.TimeSeries(d[:, 1], delta_t = dt[1]- dt[0])\r\n",
        "data = d\r\n",
        "#calculate power spectral density from the data\r\n",
        "from pycbc.psd import welch, interpolate\r\n",
        "psds = interpolate(welch(d), 1.0 / d.duration)"
      ],
      "execution_count": null,
      "outputs": []
    },
    {
      "cell_type": "markdown",
      "metadata": {
        "id": "X12rvOVOQvYx"
      },
      "source": [
        "**Matched Filtering**"
      ]
    },
    {
      "cell_type": "code",
      "metadata": {
        "id": "hAbaaQgKQv1g"
      },
      "source": [
        "flow = 30 #Hz\r\n",
        "stilde = data.to_frequencyseries()\r\n",
        "\r\n",
        "mass_1 = numpy.arange(5,10,.1)\r\n",
        "mass_2 = mass_1\r\n",
        "\r\n",
        "snr_list = []\r\n",
        "m_list = []\r\n",
        "apx = 'TaylorF2'\r\n",
        "\r\n",
        "for i in range(len(mass_1)):\r\n",
        " \r\n",
        " m_1=mass_1[i].astype(float)\r\n",
        " m_list.append(m_1)\r\n",
        " hp, hc = pycbc.waveform.get_fd_waveform(approximant=apx,\r\n",
        "                             mass1=m_1,\r\n",
        "                             mass2=m_1,\r\n",
        "                             f_lower=flow, delta_f=stilde.delta_f)\r\n",
        "\r\n",
        " hp.resize(len(stilde))  \r\n",
        " snr = pycbc.filter.matched_filter(hp, stilde, psd=psds,\r\n",
        "                                      low_frequency_cutoff=flow)\r\n",
        "\r\n",
        "# Remove regions corrupted by filter wraparound\r\n",
        " snr = snr[len(snr) // 4: len(snr) * 3 // 4]\r\n",
        "\r\n",
        " #print ( 'Maximum SNR', max(abs(snr)) )\r\n",
        " snr_list.append(max(abs(snr)))\r\n",
        "\r\n",
        "print(\"The highest SNR was {}\".format(max(snr_list)))"
      ],
      "execution_count": null,
      "outputs": []
    },
    {
      "cell_type": "markdown",
      "metadata": {
        "id": "w_HrctFmG6KW"
      },
      "source": [
        "Since the threshold on matched filter SNR is 8.0, the data does not contain a GWS, only noise."
      ]
    },
    {
      "cell_type": "code",
      "metadata": {
        "id": "IKKBPds9Q5SY"
      },
      "source": [
        "white_data = (data.to_frequencyseries() / psds**0.5).to_timeseries()\r\n",
        "#white_data = white_data.highpass_fir(30., 512).lowpass_fir(300, 512)\r\n",
        "white_data = white_data.time_slice(+4, -4)"
      ],
      "execution_count": null,
      "outputs": []
    },
    {
      "cell_type": "markdown",
      "metadata": {
        "id": "gUdDSboxROFK"
      },
      "source": [
        "**Calculate Mean and Standard Deviation**"
      ]
    },
    {
      "cell_type": "code",
      "metadata": {
        "id": "EdziXCr7Q_Lg"
      },
      "source": [
        "import statistics\r\n",
        "mu = statistics.mean(white_data)\r\n",
        "print(mu)\r\n",
        "sigma = statistics.stdev(white_data)  # standard deviation of distribution\r\n",
        "print(sigma)"
      ],
      "execution_count": null,
      "outputs": []
    },
    {
      "cell_type": "code",
      "metadata": {
        "id": "NzZVoNrqRT9n"
      },
      "source": [
        "import matplotlib.pyplot as plt\r\n",
        "\r\n",
        "fig, ax = plt.subplots()\r\n",
        "\r\n",
        "n, bins, patches = plt.hist(white_data, color = 'blue', edgecolor = 'black', density=True, bins = int(180))\r\n",
        "\r\n",
        "# add 'best fit' line\r\n",
        "y = ((1 / (np.sqrt(2 * np.pi) * sigma)) *\r\n",
        "     np.exp(-0.5 * (1 / sigma * (bins - mu))**2))\r\n",
        "ax.plot(bins, y, '--',color = 'red')\r\n",
        "\r\n",
        "plt.title(r'$\\mathrm{Histogram\\ of\\ whitened\\ data:}\\ \\mu=%.3f,\\ \\sigma=%.3f$' %(mu,sigma))\r\n",
        "plt.xlabel('Whitened strain')\r\n",
        "plt.ylabel('Probability')"
      ],
      "execution_count": null,
      "outputs": []
    },
    {
      "cell_type": "code",
      "metadata": {
        "id": "qGgbCekgb7ze"
      },
      "source": [
        "hp, hc = get_fd_waveform(approximant=\"TaylorF2\", mass1=3, mass2=3, delta_f=1.0/(200.0) ,distance = 500, f_lower=20.0, f_final = 2048.0) #Luminosity distance = 500 Mpc\r\n",
        "psds = pycbc.psd.interpolate(pycbc.psd.welch(data),hp.delta_f)"
      ],
      "execution_count": null,
      "outputs": []
    },
    {
      "cell_type": "code",
      "metadata": {
        "id": "NGek1Gx3VgII"
      },
      "source": [
        "from pycbc.filter import sigmasq\r\n",
        "SNR = (pycbc.filter.sigmasq(hp, psds))**0.5\r\n",
        "print(SNR) #SNR for the whole data strain"
      ],
      "execution_count": null,
      "outputs": []
    },
    {
      "cell_type": "code",
      "metadata": {
        "id": "H7Cc3lNFWrVD"
      },
      "source": [
        "chunks = 690\r\n",
        "data_sliced = len(data)/chunks\r\n",
        "data_sliced = int(data_sliced)\r\n",
        "\r\n",
        "SNR_list = []\r\n",
        "for i in range(0,chunks):\r\n",
        "  data_chunk = data[i*data_sliced : (i+1)*data_sliced]\r\n",
        "  psds = pycbc.psd.interpolate(pycbc.psd.welch(data_chunk),hp.delta_f)\r\n",
        "  SNR=(pycbc.filter.sigmasq(hp, psds))**0.5\r\n",
        "  SNR_list.append(SNR)\r\n",
        "print(SNR_list)"
      ],
      "execution_count": null,
      "outputs": []
    },
    {
      "cell_type": "code",
      "metadata": {
        "id": "iNAc5wWfX2xp"
      },
      "source": [
        "fig, ax = plt.subplots()\r\n",
        "\r\n",
        "n, bins, patches = plt.hist(SNR_list, color = 'blue', density=True, edgecolor = 'black', bins = int(100))\r\n",
        "\r\n",
        "plt.title('Histogram of Estimated SNR')\r\n",
        "plt.xlabel('SNR')\r\n",
        "plt.xlim(12,23)\r\n",
        "plt.ylabel('Probability')"
      ],
      "execution_count": null,
      "outputs": []
    },
    {
      "cell_type": "markdown",
      "metadata": {
        "id": "Padn9lf8U6mp"
      },
      "source": [
        "Above histogram was found by slicing an arbitrary gravitational waveform into chunks and compare the SNR of the individual chunks. If the noise that we were provided with was stationary Gaussian, it should show a more uniform distribution of the data chunk's SNR. As it is shown in the slides, there are a lot of sources for noise and they are not distributed stationary.\r\n",
        "Also, the SNR of the whole data strain should be reflected similarly in the SNR of the data chunks if the noise was stationary."
      ]
    },
    {
      "cell_type": "markdown",
      "metadata": {
        "id": "kSzm43s6ZvnT"
      },
      "source": [
        "# **PART 3**"
      ]
    },
    {
      "cell_type": "markdown",
      "metadata": {
        "id": "stM5UgzCZyA8"
      },
      "source": [
        "**Modeled PSD for aLIGO detector**"
      ]
    },
    {
      "cell_type": "code",
      "metadata": {
        "id": "MVZzC_6BZxdT"
      },
      "source": [
        "flow = 4.0 # set up the lower cut off frequency\r\n",
        "delta_f = 1.0 / 16\r\n",
        "flen = int(2048.0/ (delta_f)) + 1\r\n",
        "psd_ligo = pycbc.psd.aLIGOZeroDetHighPower(flen, delta_f, flow)\r\n",
        "psd_ligo.data[:int(flow/delta_f)] = np.inf #set the value outside the frequency range to infinity\r\n",
        "psd_ligo.data[-1] = np.inf"
      ],
      "execution_count": null,
      "outputs": []
    },
    {
      "cell_type": "code",
      "metadata": {
        "id": "bdyJ0pyIagG3"
      },
      "source": [
        "pylab.loglog(psd_ligo.sample_frequencies, psd_ligo)\r\n",
        "pylab.title('Model PSD')\r\n",
        "pylab.legend(['aLIGO'])\r\n",
        "pylab.xlabel('Frequency (Hz)')\r\n",
        "pylab.ylabel('PSD((m/s)^2/Hz)')\r\n",
        "pylab.show()"
      ],
      "execution_count": null,
      "outputs": []
    },
    {
      "cell_type": "markdown",
      "metadata": {
        "id": "ygz1w3NsMjB8"
      },
      "source": [
        "**Find Horizon Distance for aLIGO detector**"
      ]
    },
    {
      "cell_type": "code",
      "metadata": {
        "id": "rJ0yBrBY6tu-"
      },
      "source": [
        "hp, hc = get_fd_waveform(approximant=\"TaylorF2\",\r\n",
        "                           mass1=5, mass2=5,\r\n",
        "                           f_lower=flow, \r\n",
        "                           delta_f=delta_f,\r\n",
        "                           distance = 1000)\r\n",
        "from pycbc.filter import sigmasq\r\n",
        "SNR = (pycbc.filter.sigmasq(hp, psd_ligo))**0.5\r\n",
        "print(SNR)"
      ],
      "execution_count": null,
      "outputs": []
    },
    {
      "cell_type": "code",
      "metadata": {
        "id": "OVP9qb_mLIAb"
      },
      "source": [
        "horizon_distance = 1000*(SNR/8)\r\n",
        "hp, hc = get_fd_waveform(approximant=\"TaylorF2\",\r\n",
        "                           mass1=5, mass2=5,\r\n",
        "                           f_lower=flow, \r\n",
        "                           delta_f=delta_f,\r\n",
        "                           distance = horizon_distance)\r\n",
        "from pycbc.filter import sigmasq\r\n",
        "SNR = (pycbc.filter.sigmasq(hp, psd_ligo))**0.5\r\n",
        "print(SNR)\r\n",
        "print(horizon_distance)"
      ],
      "execution_count": null,
      "outputs": []
    },
    {
      "cell_type": "code",
      "metadata": {
        "id": "FfwLbE0NAFe3"
      },
      "source": [
        "mass1 = numpy.arange(5,500,10) #mass range between 1.3 to 1.5 Solar mass\r\n",
        "mass2 = mass1\r\n",
        "\r\n",
        "hmax, smax, tmax, mmax, nsnr = None, {}, {}, 0, 0\r\n",
        "hor_distance_list = []\r\n",
        "m_list = []\r\n",
        "dist = 1000 #Mpc\r\n",
        "for i in range(len(mass1)):\r\n",
        " \r\n",
        "    m = mass1[i]\r\n",
        "    m_list.append(m*2)\r\n",
        "    hp, hc = get_fd_waveform(approximant=\"TaylorF2\",\r\n",
        "                           mass1=m, mass2=m,\r\n",
        "                           f_lower=flow, \r\n",
        "                           delta_f=delta_f,\r\n",
        "                           distance = dist)\r\n",
        "\r\n",
        "    SNR = (pycbc.filter.sigmasq(hp, psd_ligo))**0.5\r\n",
        "    hor_distance_list.append(dist*(SNR/8)/1000) #divide by 1000 to get from Mpc to Gpc\r\n",
        "print(hor_distance_list)"
      ],
      "execution_count": null,
      "outputs": []
    },
    {
      "cell_type": "code",
      "metadata": {
        "id": "6MPNtfXUTCcW"
      },
      "source": [
        "pylab.plot(m_list,hor_distance_list)\r\n",
        "pylab.legend(['aLIGO'])\r\n",
        "pylab.title('Horizon Distance for aLIGO detector')\r\n",
        "pylab.xlabel('Total Mass(m1 + m2)(M ☉)')\r\n",
        "pylab.ylabel('Horizon Distance (Gpc)')"
      ],
      "execution_count": null,
      "outputs": []
    },
    {
      "cell_type": "markdown",
      "metadata": {
        "id": "VyXGLsmMMz_y"
      },
      "source": [
        "**Modeled PSD for Einstein Telescope detector**"
      ]
    },
    {
      "cell_type": "code",
      "metadata": {
        "id": "f0hZPWSkNzOD"
      },
      "source": [
        "flow = 4.0 # set up the lower cut off frequency\r\n",
        "delta_f = 1.0 / 16\r\n",
        "flen = int(2048.0/ (delta_f)) + 1\r\n",
        "psd_et = pycbc.psd.EinsteinTelescopeP1600143(flen, delta_f, flow)\r\n",
        "psd_et.data[:int(flow/delta_f)] = np.inf #set the value outside the frequency range to infinity\r\n",
        "psd_et.data[-1] = np.inf"
      ],
      "execution_count": null,
      "outputs": []
    },
    {
      "cell_type": "code",
      "metadata": {
        "id": "0sVr-NZ2aDbb"
      },
      "source": [
        "pylab.loglog(psd_et.sample_frequencies, psd_et, label='raw')\r\n",
        "pylab.title('Model PSD')\r\n",
        "pylab.legend(['ET'])\r\n",
        "pylab.xlabel('Frequency (Hz)')\r\n",
        "pylab.ylabel('PSD((m/s)^2/Hz)')\r\n",
        "pylab.show()"
      ],
      "execution_count": null,
      "outputs": []
    },
    {
      "cell_type": "markdown",
      "metadata": {
        "id": "y8K-m3U9NFqV"
      },
      "source": [
        "**Find Horizon Distance for Einstein Telescope detector**"
      ]
    },
    {
      "cell_type": "code",
      "metadata": {
        "id": "u_dNdqueNgwU"
      },
      "source": [
        "hp, hc = get_fd_waveform(approximant=\"TaylorF2\",\r\n",
        "                           mass1=5, mass2=5,\r\n",
        "                           f_lower=flow, \r\n",
        "                           delta_f=delta_f,\r\n",
        "                           distance = 1000)\r\n",
        "from pycbc.filter import sigmasq\r\n",
        "SNR = (pycbc.filter.sigmasq(hp, psd_et))**0.5\r\n",
        "print(SNR)"
      ],
      "execution_count": null,
      "outputs": []
    },
    {
      "cell_type": "code",
      "metadata": {
        "id": "CXuCnzbqOBI0"
      },
      "source": [
        "horizon_distance = 1000*(SNR/8)\r\n",
        "hp, hc = get_fd_waveform(approximant=\"TaylorF2\",\r\n",
        "                           mass1=5, mass2=5,\r\n",
        "                           f_lower=flow, \r\n",
        "                           delta_f=delta_f,\r\n",
        "                           distance = horizon_distance)\r\n",
        "from pycbc.filter import sigmasq\r\n",
        "SNR = (pycbc.filter.sigmasq(hp, psd_et))**0.5\r\n",
        "print(SNR)\r\n",
        "print(horizon_distance)"
      ],
      "execution_count": null,
      "outputs": []
    },
    {
      "cell_type": "code",
      "metadata": {
        "id": "_FaQUHq5wxY3"
      },
      "source": [
        "mass1 = numpy.arange(5,500,10) #mass range between 1.3 to 1.5 Solar mass\r\n",
        "mass2 = mass1\r\n",
        "\r\n",
        "hmax, smax, tmax, mmax, nsnr = None, {}, {}, 0, 0\r\n",
        "hor_distance_list = []\r\n",
        "m_list = []\r\n",
        "dist = 1000 #Mpc\r\n",
        "for i in range(len(mass1)):\r\n",
        " \r\n",
        "    m = mass1[i]\r\n",
        "    m_list.append(m*2)\r\n",
        "    hp, hc = get_fd_waveform(approximant=\"TaylorF2\",\r\n",
        "                           mass1=m, mass2=m,\r\n",
        "                           f_lower=flow, \r\n",
        "                           delta_f=delta_f,\r\n",
        "                           distance = dist)\r\n",
        "\r\n",
        "    SNR = (pycbc.filter.sigmasq(hp, psd_et))**0.5\r\n",
        "    hor_distance_list.append(dist*(SNR/8)/1000) #divide by 1000 to get from Mpc to Gpc\r\n",
        "print(hor_distance_list)"
      ],
      "execution_count": null,
      "outputs": []
    },
    {
      "cell_type": "code",
      "metadata": {
        "id": "L8mdGzigw0AW"
      },
      "source": [
        "pylab.plot(m_list,hor_distance_list)\r\n",
        "pylab.legend(['ET'])\r\n",
        "pylab.title('Horizon Distance for ET detector')\r\n",
        "pylab.xlabel('Total Mass(m1 + m2)(M ☉)')\r\n",
        "pylab.ylabel('Horizon Distance (Gpc)')"
      ],
      "execution_count": null,
      "outputs": []
    },
    {
      "cell_type": "markdown",
      "metadata": {
        "id": "RjvA82Ojcl0A"
      },
      "source": [
        "The aLIGO detector shows better low frequency detection performance in comparison to the ET detector and has a higher sensitivity. "
      ]
    }
  ]
}
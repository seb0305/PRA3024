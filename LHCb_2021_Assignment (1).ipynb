{
  "nbformat": 4,
  "nbformat_minor": 0,
  "metadata": {
    "colab": {
      "name": "LHCb_2021_Assignment.ipynb",
      "provenance": [],
      "collapsed_sections": [],
      "toc_visible": true
    },
    "kernelspec": {
      "name": "python2",
      "display_name": "Python 2"
    },
    "accelerator": "GPU"
  },
  "cells": [
    {
      "cell_type": "markdown",
      "metadata": {
        "id": "1JafiSIrvEKW"
      },
      "source": [
        "Welcome to Week 4!\n",
        "\n",
        "We will be focussing in Particle Physics Analysis and detecting matter/antimatter assymetries in the production of certain types of particles. ![LHCb detector](https://www1b.physik.rwth-aachen.de/~schael/LHCb_files/LHCB%20PREVIEW-white-bg.jpg)\n",
        "\n",
        "The data we are using comes from LHCb - one of the experiments at LHC. It is a highly specialised detector aimed at detecting decays involving the B-quark. Unlike the other major experiments, LHCb detects particles very close to the source and looks almost exclusively in the forward direction - this gives the detector many advantages compared to other experiments at LHC.\n",
        "\n",
        "In order to get started, we need to access the [ROOT framework](https://root.cern.ch/) and download some datafiles into this machine.\n",
        "\n",
        "If you are using Google Colab then you need to ensure that you are using Python 2:\n",
        "\n",
        "Before we start - we have to use Python2 (not Python 3), so we should choose this as an option in \"Runtime\" -> \"Change Runtime Type\" at the top or create a new notebook in Python2 by appending \"&runtime=python2\" to the URL."
      ]
    },
    {
      "cell_type": "code",
      "metadata": {
        "id": "vFclIR72w0mU",
        "colab": {
          "base_uri": "https://localhost:8080/"
        },
        "outputId": "d7e889c9-2d35-415e-96fd-0684b9b6754e"
      },
      "source": [
        "#Colab only\n",
        "#we are going to make a directory called APPS\n",
        "!mkdir -p APPS\n",
        "#Now we move to our directory called APPS and we download ROOT from the CERN server, this version is chosen because it runs on this machine - if you want to run this locally check the versions!\n",
        "!cd APPS && wget https://root.cern.ch/download/root_v6.13.08.Linux-ubuntu18-x86_64-gcc7.3.tar.gz \n",
        "#Now we extract our downloaded file:\n",
        "!cd APPS && tar -xf root_v6.13.08.Linux-ubuntu18-x86_64-gcc7.3.tar.gz\n"
      ],
      "execution_count": 1,
      "outputs": [
        {
          "output_type": "stream",
          "text": [
            "--2021-03-01 22:00:10--  https://root.cern.ch/download/root_v6.13.08.Linux-ubuntu18-x86_64-gcc7.3.tar.gz\n",
            "Resolving root.cern.ch (root.cern.ch)... 137.138.18.236, 2001:1458:201:ee::100:6\n",
            "Connecting to root.cern.ch (root.cern.ch)|137.138.18.236|:443... connected.\n",
            "HTTP request sent, awaiting response... 200 OK\n",
            "Length: 137415272 (131M) [application/x-gzip]\n",
            "Saving to: ‘root_v6.13.08.Linux-ubuntu18-x86_64-gcc7.3.tar.gz.9’\n",
            "\n",
            "root_v6.13.08.Linux 100%[===================>] 131.05M  29.5MB/s    in 5.1s    \n",
            "\n",
            "2021-03-01 22:00:16 (25.6 MB/s) - ‘root_v6.13.08.Linux-ubuntu18-x86_64-gcc7.3.tar.gz.9’ saved [137415272/137415272]\n",
            "\n"
          ],
          "name": "stdout"
        }
      ]
    },
    {
      "cell_type": "code",
      "metadata": {
        "id": "COPyXIvbxqht",
        "colab": {
          "base_uri": "https://localhost:8080/"
        },
        "outputId": "08d6f2a4-7ecc-43c8-b0b8-a11c028f476a"
      },
      "source": [
        "#Colab only:\n",
        "#now we can extract some files from ROOT and ensure that we can access the libraries. We use some python key words to get access to the right files:\n",
        "\n",
        "import sys\n",
        "\n",
        "sys.path.append(\"/content/APPS/root/lib\")\n",
        "\n",
        "import ctypes\n",
        "\n",
        "\n",
        "ctypes.cdll.LoadLibrary('/content/APPS/root/lib/libCore.so')\n",
        "\n",
        "ctypes.cdll.LoadLibrary('/content/APPS/root/lib/libThread.so')\n",
        "\n",
        "ctypes.cdll.LoadLibrary('/content/APPS/root/lib/libImt.so')\n",
        "\n",
        "ctypes.cdll.LoadLibrary('/content/APPS/root/lib/libRIO.so')\n",
        "\n",
        "ctypes.cdll.LoadLibrary('/content/APPS/root/lib/libNet.so')\n",
        "\n",
        "ctypes.cdll.LoadLibrary('/content/APPS/root/lib/libTree.so')\n",
        "\n",
        "ctypes.cdll.LoadLibrary('/content/APPS/root/lib/libMathCore.so')\n",
        "\n",
        "ctypes.cdll.LoadLibrary('/content/APPS/root/lib/libMathMore.so')\n",
        "\n",
        "ctypes.cdll.LoadLibrary('/content/APPS/root/lib/libMatrix.so')\n",
        "\n",
        "ctypes.cdll.LoadLibrary('/content/APPS/root/lib/libHist.so')\n",
        "\n",
        "ctypes.cdll.LoadLibrary('/content/APPS/root/lib/libGraf.so')\n",
        "\n",
        "ctypes.cdll.LoadLibrary('/content/APPS/root/lib/libPyROOT.so')\n",
        "\n",
        "ctypes.cdll.LoadLibrary('/content/APPS/root/lib/libGpad.so')\n",
        "\n",
        "ctypes.cdll.LoadLibrary('/content/APPS/root/lib/libGraf3d.so')\n",
        "\n",
        "ctypes.cdll.LoadLibrary('/content/APPS/root/lib/libMultiProc.so')\n",
        "\n",
        "ctypes.cdll.LoadLibrary('/content/APPS/root/lib/libMinuit.so')\n",
        "\n",
        "ctypes.cdll.LoadLibrary('/content/APPS/root/lib/libFoam.so')"
      ],
      "execution_count": 2,
      "outputs": [
        {
          "output_type": "execute_result",
          "data": {
            "text/plain": [
              "<CDLL '/content/APPS/root/lib/libFoam.so', handle 55e821d52800 at 7f94631407d0>"
            ]
          },
          "metadata": {
            "tags": []
          },
          "execution_count": 2
        }
      ]
    },
    {
      "cell_type": "code",
      "metadata": {
        "id": "QTVz7NQMyDCb",
        "colab": {
          "base_uri": "https://localhost:8080/",
          "height": 606
        },
        "outputId": "4fd49721-1d01-4c70-d150-b7a2b874b960"
      },
      "source": [
        "#Now we can check if we have everything working as we expect: \n",
        "#Import brings the ROOT framework into our python environment.\n",
        "import ROOT\n",
        "#We define a 1 dimensional histogram, with 100 bins which ranges from -4 to +4\n",
        "h = ROOT.TH1F(\"gauss\",\"Example histogram\",100,-4,4)\n",
        "#Fill the histogram with gaussian (random) distribution\n",
        "h.FillRandom(\"gaus\")\n",
        "#make a Canvas (i.e. a drawing)\n",
        "c = ROOT.TCanvas(\"myCanvasName\",\"The Canvas Title\",800,600)\n",
        "#Draw my histogram\n",
        "h.Draw()\n",
        "#Show me the canvas\n",
        "c.Draw()"
      ],
      "execution_count": 3,
      "outputs": [
        {
          "output_type": "stream",
          "text": [
            "Welcome to JupyROOT 6.13/08\n"
          ],
          "name": "stdout"
        },
        {
          "output_type": "display_data",
          "data": {
            "image/png": "[encoded data removed]",
            "text/plain": [
              "<IPython.core.display.Image object>"
            ]
          },
          "metadata": {
            "tags": []
          }
        }
      ]
    },
    {
      "cell_type": "markdown",
      "metadata": {
        "id": "VXW1M6XB0tXP"
      },
      "source": [
        "All being well - this should give no errors and we should have some kind of Gaussian distribution above.\n",
        "\n",
        "The next step is to get our data file - you can find it on Canvas here: https://maastrichtuniversity.instructure.com/courses/5826/files/553829?module_item_id=115201\n",
        "\n",
        "Then upload it either directly or to your Google Drive and then mount this to your Colab environment"
      ]
    },
    {
      "cell_type": "markdown",
      "metadata": {
        "id": "sWq1EQ5IShTo"
      },
      "source": [
        ""
      ]
    },
    {
      "cell_type": "code",
      "metadata": {
        "colab": {
          "base_uri": "https://localhost:8080/"
        },
        "id": "cKOBEOaCE_7G",
        "outputId": "f8860158-014d-4203-fe63-3d5ce47ab9f9"
      },
      "source": [
        "from google.colab import drive\n",
        "drive.mount('/content/drive')"
      ],
      "execution_count": 4,
      "outputs": [
        {
          "output_type": "stream",
          "text": [
            "Drive already mounted at /content/drive; to attempt to forcibly remount, call drive.mount(\"/content/drive\", force_remount=True).\n"
          ],
          "name": "stdout"
        }
      ]
    },
    {
      "cell_type": "code",
      "metadata": {
        "id": "Co476pbmBvBB",
        "colab": {
          "base_uri": "https://localhost:8080/",
          "height": 642
        },
        "outputId": "de9132a3-86f6-48bd-b7e4-24d051749fb8"
      },
      "source": [
        "#Since we need to use ROOT, we must first import this into Python:\n",
        "import ROOT\n",
        "#Then we open the ROOT file using the TFile command. - note you need to make this file path correct for your own setup!\n",
        "f = ROOT.TFile.Open(\"/content/drive/MyDrive/B2HHH_MagnetUp.root\", \"READONLY\")\n",
        "#From our file, we have to extract the DecayTree \n",
        "tree=f.Get(\"data\")\n",
        "#Now we can grab some variables as a test:\n",
        "ymomentum = ROOT.RooRealVar(\"H1_PY\",\"H1 Y Momentum\",-3000,3000,\"MeV/c\")\n",
        "xmomentum = ROOT.RooRealVar(\"H1_PX\",\"H1 X Momentum\",-3000,3000,\"MeV/c\")\n",
        "zmomentum = ROOT.RooRealVar(\"H1_PZ\",\"H1 Z Momentum\",-3000,3000,\"MeV/c\")\n",
        "# We then create a dataset for us to play with\n",
        "data = ROOT.RooDataSet(\"data\",\"data set\", tree, ROOT.RooArgSet(xmomentum,ymomentum,zmomentum), \"1==1\")\n",
        "# Now we create a canvas, plot our data onto the canvas and draw it:\n",
        "c = ROOT.TCanvas(\"c\",\"c\")\n",
        "frame = xmomentum.frame()\n",
        "data.plotOn(frame)\n",
        "frame.Draw()\n",
        "c.Update()\n",
        "c.Draw()"
      ],
      "execution_count": 5,
      "outputs": [
        {
          "output_type": "stream",
          "text": [
            "\n",
            "\u001b[1mRooFit v3.60 -- Developed by Wouter Verkerke and David Kirkby\u001b[0m \n",
            "                Copyright (C) 2000-2013 NIKHEF, University of California & Stanford University\n",
            "                All rights reserved, please read http://roofit.sourceforge.net/license.txt\n",
            "\n",
            "[#1] INFO:Eval -- RooAbsReal::attachToTree(H1_PX) TTree Float_t branch H1_PX will be converted to double precision\n",
            "[#1] INFO:Eval -- RooAbsReal::attachToTree(H1_PY) TTree Float_t branch H1_PY will be converted to double precision\n",
            "[#1] INFO:Eval -- RooAbsReal::attachToTree(H1_PZ) TTree Float_t branch H1_PZ will be converted to double precision\n",
            "[#1] INFO:Eval -- RooTreeDataStore::loadValues(data) Ignored 3305139 out of range events\n"
          ],
          "name": "stdout"
        },
        {
          "output_type": "display_data",
          "data": {
            "image/png": "[encoded data removed]",
            "text/plain": [
              "<IPython.core.display.Image object>"
            ]
          },
          "metadata": {
            "tags": []
          }
        }
      ]
    },
    {
      "cell_type": "code",
      "metadata": {
        "colab": {
          "base_uri": "https://localhost:8080/",
          "height": 506
        },
        "id": "EHvTyIbjwDiL",
        "outputId": "5770bf6a-8508-4e90-afd3-614c78926cd9"
      },
      "source": [
        "c = ROOT.TCanvas(\"c\",\"c\")\r\n",
        "frame = ymomentum.frame()\r\n",
        "data.plotOn(frame)\r\n",
        "frame.Draw()\r\n",
        "c.Update()\r\n",
        "c.Draw()"
      ],
      "execution_count": 6,
      "outputs": [
        {
          "output_type": "stream",
          "text": [
            "Warning in <TCanvas::Constructor>: Deleting canvas with same name: c\n"
          ],
          "name": "stderr"
        },
        {
          "output_type": "display_data",
          "data": {
            "image/png": "[encoded data removed]",
            "text/plain": [
              "<IPython.core.display.Image object>"
            ]
          },
          "metadata": {
            "tags": []
          }
        }
      ]
    },
    {
      "cell_type": "code",
      "metadata": {
        "colab": {
          "base_uri": "https://localhost:8080/",
          "height": 506
        },
        "id": "jUonPH1wwFGZ",
        "outputId": "e2c62be0-2cfd-444a-e5e1-774e5e59ed63"
      },
      "source": [
        "c = ROOT.TCanvas(\"c\",\"c\")\r\n",
        "frame = zmomentum.frame(-1500,6000)\r\n",
        "data.plotOn(frame)\r\n",
        "frame.Draw()\r\n",
        "c.Update()\r\n",
        "c.Draw()"
      ],
      "execution_count": 7,
      "outputs": [
        {
          "output_type": "stream",
          "text": [
            "Warning in <TCanvas::Constructor>: Deleting canvas with same name: c\n"
          ],
          "name": "stderr"
        },
        {
          "output_type": "display_data",
          "data": {
            "image/png": "[encoded data removed]",
            "text/plain": [
              "<IPython.core.display.Image object>"
            ]
          },
          "metadata": {
            "tags": []
          }
        }
      ]
    },
    {
      "cell_type": "markdown",
      "metadata": {
        "id": "4e4n4iS3IJZi"
      },
      "source": [
        "#Why are we here?\n",
        "\n",
        "This week is about finding out something about one of the fundemental questions in physics. Why do we have \"stuff\".\n",
        "\n",
        "According to many of our models, and according to many measurements in particle physics, matter and anti-matter appear to be produced in equal quantities.\n",
        "\n",
        "However, when one looks at the Universe in general, we have more matter than anti-matter left - so there need to be some processes where anti-matter and matter are not produced equally. You can find out more about the Matter/Anti-Matter Asymmetry [here](http://press.web.cern.ch/backgrounders/matterantimatter-asymmetry)\n",
        "\n",
        "One place we look for this asymetry is in [charge-partity (CP) violation](https://www.symmetrymagazine.org/article/october-2005/explain-it-in-60-seconds) in particle physics processes. This essentially says that the processes that happen in the anti-particle version of a decay do not **exactly** match to the processes that happen in the particle version of the decay.\n",
        "\n",
        "\n",
        "\n",
        "---\n",
        "\n",
        "\n",
        "\n",
        "At LHCb, we produce both particle of the  B<sup>+</sup> meson and it's antiparticle the B<sup>-</sup> meson.\n",
        "\n",
        "We cannot detect these mesons directly. They decay into other things before we have a chance to measure them properly. So we collect data on the decay products, often called daughter particles. There are 524 [documented](http://pdg.lbl.gov/2014/listings/rpp2014-list-B-plus-minus.pdf) ways that the B<sup>+/-</sup> decays into various combinations. In order to simplify the process, we choose decay combinations that are convenient or have particular properties.\n",
        "\n",
        "In this analysis, we will take the process:-\n",
        "\n",
        "B<sup>+</sup>->K<sup>+</sup> + K<sup>+</sup>  + K<sup>-</sup>\n",
        "\n",
        "or\n",
        "\n",
        "B<sup>-</sup>->K<sup>-</sup> + K<sup>-</sup>  + K<sup>+</sup>\n",
        "\n",
        "\n",
        "To do so, we are given the following data for each event in our system:-\n",
        "\n",
        "![alt text](https://raw.githubusercontent.com/lhcb/opendata-project/80d64a3796e593fc8f9b257e85f32ae2e54f131f/Images/Variables.png)\n",
        "\n",
        "Here, H1 is the detected daughter particle (so a Kaon or a Pion), **not** the B-meson - the mother particle. Normally we would have to do some reconstruction from the decay products (the Daughters) to the Mother to be able to make some conclusions.\n",
        "\n",
        "Let's get started with working with this data:"
      ]
    },
    {
      "cell_type": "markdown",
      "metadata": {
        "id": "LOhfj7kfP-ao"
      },
      "source": [
        "For our analysis, the momentum of each of the daughter particles is split into the three cartesian components. We have combined these into a variable called H1_Ptot"
      ]
    },
    {
      "cell_type": "code",
      "metadata": {
        "id": "Y4keyoyTPjsK",
        "colab": {
          "base_uri": "https://localhost:8080/",
          "height": 506
        },
        "outputId": "b15e5328-20a9-45af-8104-731002c55a04"
      },
      "source": [
        "#Here make a plot of the Total momentum of each of the three daughters\r\n",
        "c = ROOT.TCanvas(\"c\", \"c\", 1000, 500)\r\n",
        "tree.Draw(\"H1_Ptot >> h1 (250, 0, 300000)\")\r\n",
        "h_1 = ROOT.gDirectory.Get(\"h1\")\r\n",
        "tree.Draw(\"H2_Ptot >> h2 (250, 0, 300000)\")\r\n",
        "h_2 = ROOT.gDirectory.Get(\"h2\")\r\n",
        "tree.Draw(\"H3_Ptot >> h3 (250, 0, 300000)\")\r\n",
        "h_3 = ROOT.gDirectory.Get(\"h3\")\r\n",
        "\r\n",
        "h_1.SetMaximum(220000)\r\n",
        "h_1.SetTitle(\"A RooPlot of Daughter Ptot\")\r\n",
        "h_1.GetXaxis().SetTitle(\"Ptot\")\r\n",
        "h_1.SetLineColor(4)\r\n",
        "h_2.SetLineColor(2)\r\n",
        "h_3.SetLineColor(8) \r\n",
        "\r\n",
        "l = ROOT.TLegend(0.85, 0.7, 0.6, 0.85)\r\n",
        "l.SetHeader(\"Legend\")\r\n",
        "l.AddEntry(h_1, \"H1_Ptot\")\r\n",
        "l.AddEntry(h_2, \"H2_Ptot\")\r\n",
        "l.AddEntry(h_3, \"H3_Ptot\")\r\n",
        "\r\n",
        "h_1.Draw()\r\n",
        "h_2.Draw(\"SAME\")\r\n",
        "h_3.Draw(\"SAME\")\r\n",
        "l.Draw(\"SAME\")\r\n",
        "c.Update()\r\n",
        "c.Draw()"
      ],
      "execution_count": 8,
      "outputs": [
        {
          "output_type": "stream",
          "text": [
            "Warning in <TCanvas::Constructor>: Deleting canvas with same name: c\n"
          ],
          "name": "stderr"
        },
        {
          "output_type": "display_data",
          "data": {
            "image/png": "[encoded data removed]",
            "text/plain": [
              "<IPython.core.display.Image object>"
            ]
          },
          "metadata": {
            "tags": []
          }
        }
      ]
    },
    {
      "cell_type": "markdown",
      "metadata": {
        "id": "C1lXLMCoR1Gi"
      },
      "source": [
        "Now plot the total momentum for the mother (M_Ptot)"
      ]
    },
    {
      "cell_type": "code",
      "metadata": {
        "id": "6kdbiNpPR1QG",
        "colab": {
          "base_uri": "https://localhost:8080/",
          "height": 506
        },
        "outputId": "ce3bd074-f485-4234-aa7c-845a74408a60"
      },
      "source": [
        "#use the histogram plotting tools, plot the momentum of the mother\r\n",
        "c = ROOT.TCanvas(\"c\", \"c\", 1000, 500)\r\n",
        "\r\n",
        "tree.Draw(\"M_Ptot >> h1 (250, 0, 500000)\")\r\n",
        "h_1 = ROOT.gDirectory.Get(\"h1\")\r\n",
        "\r\n",
        "h_1.SetTitle(\"A RooPlot of Mother Ptot\")\r\n",
        "h_1.GetXaxis().SetTitle(\"M_Ptot\")\r\n",
        "h_1.SetLineColor(4)\r\n",
        "\r\n",
        "h_1.Draw()\r\n",
        "c.Update()\r\n",
        "c.Draw()"
      ],
      "execution_count": 9,
      "outputs": [
        {
          "output_type": "stream",
          "text": [
            "Warning in <TCanvas::Constructor>: Deleting canvas with same name: c\n"
          ],
          "name": "stderr"
        },
        {
          "output_type": "display_data",
          "data": {
            "image/png": "[encoded data removed]",
            "text/plain": [
              "<IPython.core.display.Image object>"
            ]
          },
          "metadata": {
            "tags": []
          }
        }
      ]
    },
    {
      "cell_type": "markdown",
      "metadata": {
        "id": "Gj5qv5kqSMIF"
      },
      "source": [
        "Let's take a look at the whole data file that is available to us by looking at one specific entry - number 45"
      ]
    },
    {
      "cell_type": "code",
      "metadata": {
        "id": "QMkih_6SSG8I",
        "colab": {
          "base_uri": "https://localhost:8080/"
        },
        "outputId": "6812e566-a6af-4667-8749-64de74e7b79e"
      },
      "source": [
        "tree.Show(45)"
      ],
      "execution_count": 10,
      "outputs": [
        {
          "output_type": "stream",
          "text": [
            "======> EVENT:45\n",
            " B_FlightDistance = 4.71407\n",
            " B_VertexChi2    = 11.5278\n",
            " H1_PX           = 133.376\n",
            " H1_PY           = -1293.52\n",
            " H1_PZ           = 33534.2\n",
            " H1_ProbK        = 0.00735235\n",
            " H1_ProbPi       = 0.204907\n",
            " H1_Charge       = 1\n",
            " H1_IPChi2       = 22.9885\n",
            " H1_isMuon       = 0\n",
            " H2_PX           = 518.943\n",
            " H2_PY           = -1966.2\n",
            " H2_PZ           = 52184.7\n",
            " H2_ProbK        = 0.00482044\n",
            " H2_ProbPi       = 0.266655\n",
            " H2_Charge       = -1\n",
            " H2_IPChi2       = 20.5652\n",
            " H2_isMuon       = 0\n",
            " H3_PX           = 1383.62\n",
            " H3_PY           = -2008.35\n",
            " H3_PZ           = 12154\n",
            " H3_ProbK        = 0.0800247\n",
            " H3_ProbPi       = 0.403711\n",
            " H3_Charge       = -1\n",
            " H3_IPChi2       = 1584.95\n",
            " H3_isMuon       = 0\n",
            " H1_Ptot         = 33559.4\n",
            " H1_type         = 1\n",
            " H1_E            = 33559.7\n",
            " H2_Ptot         = 52224.4\n",
            " H2_type         = 1\n",
            " H2_E            = 52224.5\n",
            " H3_Ptot         = 12396.2\n",
            " H3_type         = 1\n",
            " H3_E            = 12397\n",
            " M_Ptot          = 98035.7\n",
            " M_E             = 98181.3\n",
            " M_m0            = 5343.69\n"
          ],
          "name": "stdout"
        }
      ]
    },
    {
      "cell_type": "markdown",
      "metadata": {
        "id": "w3sqwtNTUEJd"
      },
      "source": [
        "We have now completed the initial steps and begun to work through what we need to with the data. This is a perfect moment to take a coffee!"
      ]
    },
    {
      "cell_type": "markdown",
      "metadata": {
        "id": "6RhWWqt3a8_e"
      },
      "source": [
        "Having discovered all of the relevant information about our daughter particles, we need to combine the measurements about them into a single mother - which will be our B<sup>+</sup> or our B<sup>-</sup>\r\n",
        "\r\n",
        "Having found our momentum and energy, we can use these quantities to find our experimental mass (not the theoretical mass as we have used for the reconstruction).\r\n",
        "\r\n",
        "When we calculate this, we will get a distribution of masses. This is due to errors in the measurements made either by the detector, or in the experiment itself. We hope to have a reasonably narrow peak to work with, but, sometimes this is not possible.\r\n",
        "\r\n",
        "Additionally there will be other particles in the detector - which means our daughters might have come from two or even three different processes. Events which don't come from the same process will give a higher or lower mass than we are looking for. This is typically called the *background* while events which come from our event of interest are called the *signal*"
      ]
    },
    {
      "cell_type": "code",
      "metadata": {
        "id": "onr7-8CMbbFf",
        "colab": {
          "base_uri": "https://localhost:8080/",
          "height": 506
        },
        "outputId": "d9217f56-97c3-44a3-f928-f075d2dfbe9d"
      },
      "source": [
        "#Now plot a histogram of the range of masses of the B meson.\r\n",
        "#Does this match what we would expect from theory?\r\n",
        "c = ROOT.TCanvas(\"c\", \"c\", 1000, 500)\r\n",
        "tree.Draw(\"sqrt(M_E*M_E - M_Ptot*M_Ptot*1**2)/1**2 >> H(250, 1500, 7000)\")\r\n",
        "h_1 = ROOT.gDirectory.Get(\"H\")\r\n",
        "tree.Draw(\"M_m0 >> h1(250, 1500, 7000)\")\r\n",
        "h_2 = ROOT.gDirectory.Get(\"h1\")\r\n",
        "\r\n",
        "h_1.SetLineColor(4)\r\n",
        "h_2.SetLineColor(2)\r\n",
        "h_2.SetTitle(\"Range of masses of B meson\")\r\n",
        "h_2.GetXaxis().SetTitle(\"Mass\")\r\n",
        "\r\n",
        "l = ROOT.TLegend(0.55, 0.7, 0.3, 0.8)\r\n",
        "l.SetHeader(\"Legend\")\r\n",
        "l.AddEntry(h_1,\"Calculated M_m0\")\r\n",
        "l.AddEntry(h_2, \"M_m0\")\r\n",
        "\r\n",
        "h_1.Draw()\r\n",
        "h_2.Draw()\r\n",
        "l.Draw(\"SAME\")\r\n",
        "c.Update()\r\n",
        "c.Draw()"
      ],
      "execution_count": 11,
      "outputs": [
        {
          "output_type": "stream",
          "text": [
            "Warning in <TCanvas::Constructor>: Deleting canvas with same name: c\n"
          ],
          "name": "stderr"
        },
        {
          "output_type": "display_data",
          "data": {
            "image/png": "[encoded data removed]",
            "text/plain": [
              "<IPython.core.display.Image object>"
            ]
          },
          "metadata": {
            "tags": []
          }
        }
      ]
    },
    {
      "cell_type": "markdown",
      "metadata": {
        "id": "aN5SSFPEeOus"
      },
      "source": [
        "**The graph shows that the pre stored mass distribution is identical to the the calculated mass distribution.**"
      ]
    },
    {
      "cell_type": "markdown",
      "metadata": {
        "id": "MWGFKFnXb0RP"
      },
      "source": [
        "We know that some of our particles are the B+ and some are the B- particle. There will also be some particles in our system that are not coming from a genuine B+/- or are a B+/- but are not constructed from Kaons.\r\n",
        "\r\n",
        "We have some tools available to help:-\r\n",
        "\r\n",
        "  *  During detection, software attributes the probability of a particle being a Kaon or a Pion (in the H1_ProbK or H1_ProbPi variable)\r\n",
        "  * The detector also knows if the particle was a Muon - since it has detectors specifically for these. So it can attribute a 0 or a 1 to this probability\r\n",
        "  * The reconstructed vertex has a some kind of quality associated with it (we call this the Vertex χ2 (this is the variable B_VertexChi2). This is the statistical measure that determines how well we found a single point to be the source of all three particles.\r\n",
        "\r\n"
      ]
    },
    {
      "cell_type": "markdown",
      "metadata": {
        "id": "fEpnSmH4b9HZ"
      },
      "source": [
        "In order to get a better result, we should select our data to have the properties we desire and make some rules (often called a selection) to cut away data we don't want to include for various reasons. e.g. we know we don't have any muons in our decay - so any time H1/H2/H3 are a muon they should be excluded. The other variables are not so clear - so we can plot them to make a decision."
      ]
    },
    {
      "cell_type": "code",
      "metadata": {
        "id": "k0vikJp0cAvv",
        "colab": {
          "base_uri": "https://localhost:8080/",
          "height": 506
        },
        "outputId": "10216a3a-b432-4c95-d846-f1cb4c8cfcc3"
      },
      "source": [
        "#Make plots of H1/H2/H3 _ProbK on one plot\r\n",
        "c = ROOT.TCanvas(\"c\", \"c\", 1000, 500)\r\n",
        "tree.Draw(\"H1_ProbK >> H1_prob(300,0,1)\")\r\n",
        "h_1 = ROOT.gDirectory.Get(\"H1_prob\")\r\n",
        "tree.Draw(\"H2_ProbK >> H2_prob(300,0,1)\")\r\n",
        "h_2 = ROOT.gDirectory.Get(\"H2_prob\")\r\n",
        "tree.Draw(\"H3_ProbK >> H3_prob(300,0,1)\")\r\n",
        "h_3 = ROOT.gDirectory.Get(\"H3_prob\")\r\n",
        "\r\n",
        "h_1.SetTitle(\"H1/H2/H3 _ProbK\")\r\n",
        "h_1.GetXaxis().SetTitle(\"ProbK\")\r\n",
        "h_1.SetLineColor(4)\r\n",
        "h_2.SetLineColor(2)\r\n",
        "h_3.SetLineColor(8) \r\n",
        "\r\n",
        "l = ROOT.TLegend(0.85, 0.7, 0.6, 0.85)\r\n",
        "l.SetHeader(\"Legend\")\r\n",
        "l.AddEntry(h_1, \"H1_ProbK\")\r\n",
        "l.AddEntry(h_2, \"H2_ProbK\")\r\n",
        "l.AddEntry(h_3, \"H3_ProbK\")\r\n",
        "\r\n",
        "h_1.Draw()\r\n",
        "h_2.Draw(\"SAME\")\r\n",
        "h_3.Draw(\"SAME\")\r\n",
        "l.Draw(\"SAME\")\r\n",
        "c.Update()\r\n",
        "c.Draw()"
      ],
      "execution_count": 12,
      "outputs": [
        {
          "output_type": "stream",
          "text": [
            "Warning in <TCanvas::Constructor>: Deleting canvas with same name: c\n"
          ],
          "name": "stderr"
        },
        {
          "output_type": "display_data",
          "data": {
            "image/png": "[encoded data removed]",
            "text/plain": [
              "<IPython.core.display.Image object>"
            ]
          },
          "metadata": {
            "tags": []
          }
        }
      ]
    },
    {
      "cell_type": "code",
      "metadata": {
        "colab": {
          "base_uri": "https://localhost:8080/",
          "height": 506
        },
        "id": "nlLmiZ-wLG5I",
        "outputId": "f4ab7bf9-ded8-4b51-8137-5388760e3d65"
      },
      "source": [
        "#Make plots of H1/H2/H3 _ProbPi on one plot\r\n",
        "c = ROOT.TCanvas(\"c\", \"c\", 1000, 500)\r\n",
        "tree.Draw(\"H1_ProbPi >> H1_prob(300,0,1)\")\r\n",
        "h_1 = ROOT.gDirectory.Get(\"H1_prob\")\r\n",
        "tree.Draw(\"H2_ProbPi>>H2_prob(300,0,1)\")\r\n",
        "h_2 = ROOT.gDirectory.Get(\"H2_prob\")\r\n",
        "tree.Draw(\"H3_ProbPi>>H3_prob(300,0,1)\")\r\n",
        "h_3 = ROOT.gDirectory.Get(\"H3_prob\")\r\n",
        "\r\n",
        "h_1.SetTitle(\"H1/H2/H3 _ProbPi\")\r\n",
        "h_1.GetXaxis().SetTitle(\"ProbPi\")\r\n",
        "h_1.SetLineColor(4)\r\n",
        "h_2.SetLineColor(2)\r\n",
        "h_3.SetLineColor(8) \r\n",
        "\r\n",
        "l = ROOT.TLegend(0.85, 0.7, 0.6, 0.85)\r\n",
        "l.SetHeader(\"Legend\")\r\n",
        "l.AddEntry(h_1, \"H1_ProbK\")\r\n",
        "l.AddEntry(h_2, \"H2_ProbK\")\r\n",
        "l.AddEntry(h_3, \"H3_ProbK\")\r\n",
        "\r\n",
        "h_1.Draw()\r\n",
        "h_2.Draw(\"SAME\")\r\n",
        "h_3.Draw(\"SAME\")\r\n",
        "l.Draw(\"SAME\")\r\n",
        "c.Update()\r\n",
        "c.Draw()"
      ],
      "execution_count": 13,
      "outputs": [
        {
          "output_type": "stream",
          "text": [
            "Warning in <TCanvas::Constructor>: Deleting canvas with same name: c\n"
          ],
          "name": "stderr"
        },
        {
          "output_type": "display_data",
          "data": {
            "image/png": "[encoded data removed]",
            "text/plain": [
              "<IPython.core.display.Image object>"
            ]
          },
          "metadata": {
            "tags": []
          }
        }
      ]
    },
    {
      "cell_type": "code",
      "metadata": {
        "colab": {
          "base_uri": "https://localhost:8080/",
          "height": 506
        },
        "id": "k9jOY4e8LHbl",
        "outputId": "cde37d5d-6b6c-4eb3-a6b7-632a7cd3c294"
      },
      "source": [
        "#For all our particles, make a plot of the B_VertexChi2\r\n",
        "c = ROOT.TCanvas(\"c\", \"c\", 1000, 500)\r\n",
        "tree.Draw(\"B_VertexChi2\"+\" >> B_Vertex(500,0,13)\")\r\n",
        "\r\n",
        "h_1 = ROOT.gDirectory.Get(\"B_Vertex\")\r\n",
        "h_1.SetTitle(\"Plot of B_VertexChi2\")\r\n",
        "\r\n",
        "h_1.Draw()\r\n",
        "c.Update()\r\n",
        "c.Draw()"
      ],
      "execution_count": 14,
      "outputs": [
        {
          "output_type": "stream",
          "text": [
            "Warning in <TCanvas::Constructor>: Deleting canvas with same name: c\n"
          ],
          "name": "stderr"
        },
        {
          "output_type": "display_data",
          "data": {
            "image/png": "[encoded data removed]",
            "text/plain": [
              "<IPython.core.display.Image object>"
            ]
          },
          "metadata": {
            "tags": []
          }
        }
      ]
    },
    {
      "cell_type": "markdown",
      "metadata": {
        "id": "DWmxBkZ0cDx1"
      },
      "source": [
        "Using these plots, we can now make a preselection string. This is a text string that looks like "
      ]
    },
    {
      "cell_type": "code",
      "metadata": {
        "id": "U1IGKyZXcGJP"
      },
      "source": [
        "#This example is for each daughter particle to have a Probability of being a Pion being more than 90% and H1 to not be a muon\r\n",
        "#This is not a good choice of selection - you should make your own :)"
      ],
      "execution_count": 15,
      "outputs": []
    },
    {
      "cell_type": "code",
      "metadata": {
        "id": "MxD7JMeicMu0"
      },
      "source": [
        "#To apply the selection - we can use the copytree command:\r\n",
        "selection=(\"H1_ProbK>0.25&H1_ProbPi<0.60&H2_ProbK>0.25&H2_ProbPi<0.55&H3_ProbK>0.25&H1_ProbPi<0.47&!H1_isMuon\")\r\n",
        "CutTree=tree.CopyTree(selection)\r\n",
        "#So now we take our data in tree and apply selection to it (so only events which comply with those rules are kept) and put the new data in CutTree"
      ],
      "execution_count": 16,
      "outputs": []
    },
    {
      "cell_type": "code",
      "metadata": {
        "id": "hmmsoUwEcOir",
        "colab": {
          "base_uri": "https://localhost:8080/",
          "height": 506
        },
        "outputId": "7cae1122-1c2f-4de9-d4d7-60b0a8eb09b4"
      },
      "source": [
        "#Now as a good check, we should see the effect of applying our cuts.\r\n",
        "#On one histogram, plot the B meson mass, from both the tree (pre-cuts) and the CutTree (post-cuts)\r\n",
        "#What do you notice about your histogram now?\r\n",
        "c = ROOT.TCanvas(\"c\", \"c\", 1000, 500)\r\n",
        "tree.Draw(\"M_m0 >> h1(250, 1500, 7000)\")\r\n",
        "h_1 = ROOT.gDirectory.Get(\"h1\")\r\n",
        "CutTree.Draw(\"M_m0 >> h2(250, 1500, 7000)\")\r\n",
        "h_2 = ROOT.gDirectory.Get(\"h2\")\r\n",
        "\r\n",
        "h_1.SetTitle(\"B meson mass\")\r\n",
        "h_1.GetXaxis().SetTitle(\"Mass\")\r\n",
        "h_1.SetLineColor(4)\r\n",
        "h_2.SetLineColor(2)\r\n",
        "\r\n",
        "l = ROOT.TLegend(0.55, 0.7, 0.3, 0.8)\r\n",
        "l.SetHeader(\"Legend\")\r\n",
        "l.AddEntry(h_1, \"M_m0 original\")\r\n",
        "l.AddEntry(h_2, \"M_m0 cut\")\r\n",
        "\r\n",
        "h_1.Draw()\r\n",
        "h_2.Draw(\"SAME\")\r\n",
        "l.Draw(\"SAME\")\r\n",
        "c.Update()\r\n",
        "c.Draw()"
      ],
      "execution_count": 17,
      "outputs": [
        {
          "output_type": "stream",
          "text": [
            "Warning in <TCanvas::Constructor>: Deleting canvas with same name: c\n"
          ],
          "name": "stderr"
        },
        {
          "output_type": "display_data",
          "data": {
            "image/png": "[encoded data removed]",
            "text/plain": [
              "<IPython.core.display.Image object>"
            ]
          },
          "metadata": {
            "tags": []
          }
        }
      ]
    },
    {
      "cell_type": "markdown",
      "metadata": {
        "id": "N1tResqvcMgQ"
      },
      "source": [
        "#How do we count the number of events?\r\n",
        "\r\n",
        "We now have a histogram of events that we have reconstructed as a B meson. But some of these events are caused by a co-incidence of events which would still occur if there were no B mesons actually produced. We call this the background. Background and signal are indistinguishable now as the detector cannot tell the difference and our cuts were unable to remove the events for physics reasons. We can do some statistical analysis, if we know the approximate shapes of our signal and our background. Just like a least-squares fitting we can run a fit routine to minimise the error between the fitted curve and our data. As an example, if we know our data has an exponential background and a gaussian signal:\r\n",
        "\r\n",
        "![Gaussian+Exp Background](https://twiki.cern.ch/twiki/pub/RooStats/RooStatsTutorialsJune2013/GausExpModelFit.png)\r\n",
        "\r\n",
        "Here the red line represents our signal, the blue dotted line is our background and the solid blue line is our combined curve. The graph also shows the number of signal events and the number of background events. The signal now is a tiny fraction of the total data shown in the plot.\r\n",
        "\r\n",
        "In order to do this, we need to build a fit model, around which the software can try to fit our data.\r\n",
        "\r\n",
        "We use RooFit for this, which includes:\r\n",
        "* Gaussian\r\n",
        "* Exponential\r\n",
        "* Chebychev\r\n",
        "* Crystal Ball\r\n",
        "* Breit-Wigner\r\n",
        "\r\n",
        "As well as several other choices.\r\n",
        "\r\n",
        "Typically exponential and Chebychev functions are used for background and Gaussian, Crystal Ball and Breit-Wigner are used for signal. We can also combine them (e.g. 1 crystal ball, 1 gaussian, 1 exponential) in various ways."
      ]
    },
    {
      "cell_type": "code",
      "metadata": {
        "id": "R_7q_HY1qhiS"
      },
      "source": [
        "#define physical measurment that we want to fit using RooRealVar\r\n",
        "# var = ROOT.RooRealVar =(\"Variable from Python\", \"Nickname\",Min, Max, Units)\r\n",
        "mass = ROOT.RooRealVar(\"M_m0\",\"Mass\",5000,5600,\"MeV/C^{2}\")\r\n",
        "\r\n",
        "#passing the rest of the variables into the model\r\n",
        "#For the RooRealVar the last three parameters are given, \"starting value\" and min/max values\r\n",
        "gaussMean = ROOT.RooRealVar(\"Mean\",\"Mean\",5200,5000,5600)\r\n",
        "gaussWidth = ROOT.RooRealVar(\"Width\",\"Width\",10,0,500)\r\n",
        "\r\n",
        "#Now we have enough to make our Model for the signal:\r\n",
        "\r\n",
        "Gauss=ROOT.RooGaussian(\"Gaussian Signal\",\"Gauss\",mass,gaussMean,gaussWidth)\r\n",
        "Gauss_Norm= ROOT.RooRealVar(\"Gauss_Norm\",\"Signal Yield\", tree.GetEntries()/30, 0, tree.GetEntries() * 3)\r\n",
        "#We also need a background, so let's use a (simple) exponential:\r\n",
        "\r\n",
        "exponent=ROOT.RooRealVar(\"exponent\", \"C\", -0.02, -2, +2)\r\n",
        "exp_Norm= ROOT.RooRealVar(\"exp_Norm\",\"Background Yield\", tree.GetEntries()/30, 0, tree.GetEntries() * 2)\r\n",
        "\r\n",
        "#Define the  model for the background:\r\n",
        "\r\n",
        "Bkgnd=ROOT.RooExponential(\"Exponential Background\",\"Bkgnd\",mass,exponent)\r\n",
        "\r\n",
        "#Now we need to combine these two functions into a single PDF (probability density function)\r\n",
        "#and we need to add the normalisation factors at the end as scaling factors\r\n",
        "\r\n",
        "model=ROOT.RooAddPdf(\"Full Model\",\"model\",ROOT.RooArgList(Gauss,Bkgnd),ROOT.RooArgList(Gauss_Norm, exp_Norm) )"
      ],
      "execution_count": 18,
      "outputs": []
    },
    {
      "cell_type": "code",
      "metadata": {
        "id": "PL-qVvs-dw86",
        "colab": {
          "base_uri": "https://localhost:8080/"
        },
        "outputId": "0a58b1d4-21e9-482f-f077-cde188569b22"
      },
      "source": [
        "#Put our data set into a RooDataSet structure\r\n",
        "\r\n",
        "data_to_fit=ROOT.RooDataSet(\"Data Set\",\"data_to_fit\", CutTree, ROOT.RooArgSet(mass))\r\n",
        "\r\n",
        "#Then we can do the fitting:\r\n",
        "\r\n",
        "model.fitTo(data_to_fit)\r\n",
        "\r\n",
        "#if everything went well, you will see the outputs of RooFit below"
      ],
      "execution_count": 19,
      "outputs": [
        {
          "output_type": "execute_result",
          "data": {
            "text/plain": [
              "<ROOT.RooFitResult object at 0x(nil)>"
            ]
          },
          "metadata": {
            "tags": []
          },
          "execution_count": 19
        },
        {
          "output_type": "stream",
          "text": [
            "[#1] INFO:Eval -- RooAbsReal::attachToTree(M_m0) TTree Float_t branch M_m0 will be converted to double precision\n",
            "[#1] INFO:Eval -- RooTreeDataStore::loadValues(Data Set) Ignored 5099 out of range events\n",
            "[#1] INFO:Minization -- p.d.f. provides expected number of events, including extended term in likelihood.\n",
            "[#1] INFO:Minization -- RooMinimizer::optimizeConst: activating const optimization\n",
            "[#1] INFO:Minization --  The following expressions will be evaluated in cache-and-track mode: (Gaussian Signal,Exponential Background)\n",
            " **********\n",
            " **    1 **SET PRINT           1\n",
            " **********\n",
            " **********\n",
            " **    2 **SET NOGRAD\n",
            " **********\n",
            " PARAMETER DEFINITIONS:\n",
            "    NO.   NAME         VALUE      STEP SIZE      LIMITS\n",
            "     1 Gauss_Norm   1.14006e+05  5.70030e+04    0.00000e+00  1.02606e+07\n",
            " MINUIT WARNING IN PARAM DEF\n",
            " ============== LIMITS ON PARAM1 TOO FAR APART.\n",
            " PARAMETER DEFINITIONS:\n",
            "    NO.   NAME         VALUE      STEP SIZE      LIMITS\n",
            "     2 Mean         5.20000e+03  6.00000e+01    5.00000e+03  5.60000e+03\n",
            "     3 Width        1.00000e+01  5.00000e+00    0.00000e+00  5.00000e+02\n",
            "     4 exp_Norm     1.14006e+05  5.70030e+04    0.00000e+00  6.84039e+06\n",
            "     5 exponent    -2.00000e-02  4.00000e-01   -2.00000e+00  2.00000e+00\n",
            " **********\n",
            " **    3 **SET ERR         0.5\n",
            " **********\n",
            " **********\n",
            " **    4 **SET PRINT           1\n",
            " **********\n",
            " **********\n",
            " **    5 **SET STR           1\n",
            " **********\n",
            " NOW USING STRATEGY  1: TRY TO BALANCE SPEED AGAINST RELIABILITY\n",
            " **********\n",
            " **    6 **MIGRAD        2500           1\n",
            " **********\n",
            " FIRST CALL TO USER FUNCTION AT NEW START POINT, WITH IFLAG=4.\n",
            " START MIGRAD MINIMIZATION.  STRATEGY  1.  CONVERGENCE WHEN EDM .LT. 1.00e-03\n",
            " FCN=121281 FROM MIGRAD    STATUS=INITIATE       49 CALLS          50 TOTAL\n",
            "                     EDM= unknown      STRATEGY= 1      NO ERROR MATRIX       \n",
            "  EXT PARAMETER               CURRENT GUESS       STEP         FIRST   \n",
            "  NO.   NAME      VALUE            ERROR          SIZE      DERIVATIVE \n",
            "   1  Gauss_Norm   1.14006e+05   5.70030e+04   0.00000e+00   9.70588e+05\n",
            "   2  Mean         5.28025e+03   6.00000e+01   2.73967e-01  -8.50806e+04\n",
            "   3  Width        1.00000e+01   5.00000e+00   0.00000e+00  -1.40119e+05\n",
            "   4  exp_Norm     1.14006e+05   5.70030e+04   0.00000e+00   8.01623e+05\n",
            "   5  exponent    -2.00000e-02   4.00000e-01   0.00000e+00  -3.77421e+06\n",
            "                               ERR DEF= 0.5\n",
            "[#0] WARNING:Minization -- RooMinimizerFcn: Minimized function has error status.\n",
            "Returning maximum FCN so far (536447) to force MIGRAD to back out of this region. Error log follows\n",
            "Parameter values: Gauss_Norm=2988.08, Mean=5284.39, Width=18.2621, exp_Norm=2034.07, exponent=0.781215\n",
            "RooAddPdf::Full Model[ Gauss_Norm * Gaussian Signal + exp_Norm * Exponential Background ]\n",
            "     p.d.f value is Not-a-Number (-nan), forcing value to zero @ !refCoefNorm=(), !pdfs=(Gaussian Signal = 0.696737/45.7763,Exponential Background = inf/-nan), !coefficients=(Gauss_Norm = 2988.08,exp_Norm = 2034.07)\n",
            "     getLogVal() top-level p.d.f evaluates to zero @ !refCoefNorm=(), !pdfs=(Gaussian Signal = 0.696737/45.7763,Exponential Background = inf/-nan), !coefficients=(Gauss_Norm = 2988.08,exp_Norm = 2034.07)\n",
            "     p.d.f value is Not-a-Number (-nan), forcing value to zero @ !refCoefNorm=(), !pdfs=(Gaussian Signal = 2.46926e-15/45.7763,Exponential Background = inf/-nan), !coefficients=(Gauss_Norm = 2988.08,exp_Norm = 2034.07)\n",
            "     getLogVal() top-level p.d.f evaluates to zero @ !refCoefNorm=(), !pdfs=(Gaussian Signal = 2.46926e-15/45.7763,Exponential Background = inf/-nan), !coefficients=(Gauss_Norm = 2988.08,exp_Norm = 2034.07)\n",
            "     p.d.f value is Not-a-Number (-nan), forcing value to zero @ !refCoefNorm=(), !pdfs=(Gaussian Signal = 9.28916e-40/45.7763,Exponential Background = inf/-nan), !coefficients=(Gauss_Norm = 2988.08,exp_Norm = 2034.07)\n",
            "     getLogVal() top-level p.d.f evaluates to zero @ !refCoefNorm=(), !pdfs=(Gaussian Signal = 9.28916e-40/45.7763,Exponential Background = inf/-nan), !coefficients=(Gauss_Norm = 2988.08,exp_Norm = 2034.07)\n",
            "     p.d.f value is Not-a-Number (-nan), forcing value to zero @ !refCoefNorm=(), !pdfs=(Gaussian Signal = 0.84359/45.7763,Exponential Background = inf/-nan), !coefficients=(Gauss_Norm = 2988.08,exp_Norm = 2034.07)\n",
            "     getLogVal() top-level p.d.f evaluates to zero @ !refCoefNorm=(), !pdfs=(Gaussian Signal = 0.84359/45.7763,Exponential Background = inf/-nan), !coefficients=(Gauss_Norm = 2988.08,exp_Norm = 2034.07)\n",
            "     p.d.f value is Not-a-Number (-nan), forcing value to zero @ !refCoefNorm=(), !pdfs=(Gaussian Signal = 0.0524725/45.7763,Exponential Background = inf/-nan), !coefficients=(Gauss_Norm = 2988.08,exp_Norm = 2034.07)\n",
            "     getLogVal() top-level p.d.f evaluates to zero @ !refCoefNorm=(), !pdfs=(Gaussian Signal = 0.0524725/45.7763,Exponential Background = inf/-nan), !coefficients=(Gauss_Norm = 2988.08,exp_Norm = 2034.07)\n",
            "     p.d.f value is Not-a-Number (-nan), forcing value to zero @ !refCoefNorm=(), !pdfs=(Gaussian Signal = 1.14061e-15/45.7763,Exponential Background = inf/-nan), !coefficients=(Gauss_Norm = 2988.08,exp_Norm = 2034.07)\n",
            "     getLogVal() top-level p.d.f evaluates to zero @ !refCoefNorm=(), !pdfs=(Gaussian Signal = 1.14061e-15/45.7763,Exponential Background = inf/-nan), !coefficients=(Gauss_Norm = 2988.08,exp_Norm = 2034.07)\n",
            "    ... (remaining 2038 messages suppressed)\n",
            "RooNLLVar::nll_Full Model_Data Set[ paramSet=(Gauss_Norm,Mean,Width,exp_Norm,exponent) ]\n",
            "     function value is NAN @ paramSet=(Gauss_Norm = 2988.08,Mean = 5284.39,Width = 18.2621,exp_Norm = 2034.07,exponent = 0.781215)\n",
            "RooRealIntegral::Exponential Background_Int[M_m0][ Int Exponential Backgroundd[Ana](M_m0) ]\n",
            "     function value is NAN @ !sumList=(), !intList=(), !anaList=(M_m0 = 5323.05), !jacList=(), !facList=(), !func=Exponential Background=inf/8.34234e-43, !sumCat=()\n",
            "\n",
            "[#0] WARNING:Minization -- RooMinimizerFcn: Minimized function has error status.\n",
            "Returning maximum FCN so far (536447) to force MIGRAD to back out of this region. Error log follows\n",
            "Parameter values: Gauss_Norm=49067.7, Mean=5281.95, Width=13.1057, exp_Norm=47389.9, exponent=0.316808\n",
            "RooAddPdf::Full Model[ Gauss_Norm * Gaussian Signal + exp_Norm * Exponential Background ]\n",
            "     p.d.f value is Not-a-Number (-nan), forcing value to zero @ !refCoefNorm=(), !pdfs=(Gaussian Signal = 0.607395/32.8511,Exponential Background = inf/-nan), !coefficients=(Gauss_Norm = 49067.7,exp_Norm = 47389.9)\n",
            "     getLogVal() top-level p.d.f evaluates to zero @ !refCoefNorm=(), !pdfs=(Gaussian Signal = 0.607395/32.8511,Exponential Background = inf/-nan), !coefficients=(Gauss_Norm = 49067.7,exp_Norm = 47389.9)\n",
            "     p.d.f value is Not-a-Number (-nan), forcing value to zero @ !refCoefNorm=(), !pdfs=(Gaussian Signal = 3.56969e-28/32.8511,Exponential Background = inf/-nan), !coefficients=(Gauss_Norm = 49067.7,exp_Norm = 47389.9)\n",
            "     getLogVal() top-level p.d.f evaluates to zero @ !refCoefNorm=(), !pdfs=(Gaussian Signal = 3.56969e-28/32.8511,Exponential Background = inf/-nan), !coefficients=(Gauss_Norm = 49067.7,exp_Norm = 47389.9)\n",
            "     p.d.f value is Not-a-Number (-nan), forcing value to zero @ !refCoefNorm=(), !pdfs=(Gaussian Signal = 5.17088e-75/32.8511,Exponential Background = inf/-nan), !coefficients=(Gauss_Norm = 49067.7,exp_Norm = 47389.9)\n",
            "     getLogVal() top-level p.d.f evaluates to zero @ !refCoefNorm=(), !pdfs=(Gaussian Signal = 5.17088e-75/32.8511,Exponential Background = inf/-nan), !coefficients=(Gauss_Norm = 49067.7,exp_Norm = 47389.9)\n",
            "     p.d.f value is Not-a-Number (-nan), forcing value to zero @ !refCoefNorm=(), !pdfs=(Gaussian Signal = 0.821697/32.8511,Exponential Background = inf/-nan), !coefficients=(Gauss_Norm = 49067.7,exp_Norm = 47389.9)\n",
            "     getLogVal() top-level p.d.f evaluates to zero @ !refCoefNorm=(), !pdfs=(Gaussian Signal = 0.821697/32.8511,Exponential Background = inf/-nan), !coefficients=(Gauss_Norm = 49067.7,exp_Norm = 47389.9)\n",
            "     p.d.f value is Not-a-Number (-nan), forcing value to zero @ !refCoefNorm=(), !pdfs=(Gaussian Signal = 0.00171269/32.8511,Exponential Background = inf/-nan), !coefficients=(Gauss_Norm = 49067.7,exp_Norm = 47389.9)\n",
            "     getLogVal() top-level p.d.f evaluates to zero @ !refCoefNorm=(), !pdfs=(Gaussian Signal = 0.00171269/32.8511,Exponential Background = inf/-nan), !coefficients=(Gauss_Norm = 49067.7,exp_Norm = 47389.9)\n",
            "     p.d.f value is Not-a-Number (-nan), forcing value to zero @ !refCoefNorm=(), !pdfs=(Gaussian Signal = 8.16336e-29/32.8511,Exponential Background = inf/-nan), !coefficients=(Gauss_Norm = 49067.7,exp_Norm = 47389.9)\n",
            "     getLogVal() top-level p.d.f evaluates to zero @ !refCoefNorm=(), !pdfs=(Gaussian Signal = 8.16336e-29/32.8511,Exponential Background = inf/-nan), !coefficients=(Gauss_Norm = 49067.7,exp_Norm = 47389.9)\n",
            "    ... (remaining 2038 messages suppressed)\n",
            "RooNLLVar::nll_Full Model_Data Set[ paramSet=(Gauss_Norm,Mean,Width,exp_Norm,exponent) ]\n",
            "     function value is NAN @ paramSet=(Gauss_Norm = 49067.7,Mean = 5281.95,Width = 13.1057,exp_Norm = 47389.9,exponent = 0.316808)\n",
            "RooRealIntegral::Exponential Background_Int[M_m0][ Int Exponential Backgroundd[Ana](M_m0) ]\n",
            "     function value is NAN @ !sumList=(), !intList=(), !anaList=(M_m0 = 5323.05), !jacList=(), !facList=(), !func=Exponential Background=inf/-nan, !sumCat=()\n",
            "\n",
            " MIGRAD MINIMIZATION HAS CONVERGED.\n",
            " MIGRAD WILL VERIFY CONVERGENCE AND ERROR MATRIX.\n",
            " COVARIANCE MATRIX CALCULATED SUCCESSFULLY\n",
            " FCN=-65670.9 FROM MIGRAD    STATUS=CONVERGED     215 CALLS         216 TOTAL\n",
            "                     EDM=1.17482e-06    STRATEGY= 1      ERROR MATRIX ACCURATE \n",
            "  EXT PARAMETER                                   STEP         FIRST   \n",
            "  NO.   NAME      VALUE            ERROR          SIZE      DERIVATIVE \n",
            "   1  Gauss_Norm   1.10889e+04   1.17232e+02   5.90803e-05   6.22788e-01\n",
            "   2  Mean         5.28251e+03   2.28064e-01   1.33893e-04  -1.03116e+00\n",
            "   3  Width        2.00173e+01   2.07787e-01   3.55464e-04   1.89018e-01\n",
            "   4  exp_Norm     9.67914e+03   1.11055e+02   7.31377e-05   2.88016e-01\n",
            "   5  exponent    -1.83016e-03   6.09383e-05   5.37785e-06   1.64546e+01\n",
            "                               ERR DEF= 0.5\n",
            " EXTERNAL ERROR MATRIX.    NDIM=  25    NPAR=  5    ERR DEF=0.5\n",
            "  1.374e+04 -1.234e+00  5.662e+00 -2.653e+03 -3.008e-04 \n",
            " -1.234e+00  5.201e-02 -5.006e-03  1.233e+00 -4.805e-07 \n",
            "  5.662e+00 -5.006e-03  4.318e-02 -5.660e+00 -5.437e-07 \n",
            " -2.653e+03  1.233e+00 -5.660e+00  1.233e+04  3.009e-04 \n",
            " -3.008e-04 -4.805e-07 -5.437e-07  3.009e-04  3.713e-09 \n",
            " PARAMETER  CORRELATION COEFFICIENTS  \n",
            "       NO.  GLOBAL      1      2      3      4      5\n",
            "        1  0.27935   1.000 -0.046  0.232 -0.204 -0.042\n",
            "        2  0.11707  -0.046  1.000 -0.106  0.049 -0.035\n",
            "        3  0.32139   0.232 -0.106  1.000 -0.245 -0.043\n",
            "        4  0.29016  -0.204  0.049 -0.245  1.000  0.044\n",
            "        5  0.07420  -0.042 -0.035 -0.043  0.044  1.000\n",
            " **********\n",
            " **    7 **SET ERR         0.5\n",
            " **********\n",
            " **********\n",
            " **    8 **SET PRINT           1\n",
            " **********\n",
            " **********\n",
            " **    9 **HESSE        2500\n",
            " **********\n",
            " COVARIANCE MATRIX CALCULATED SUCCESSFULLY\n",
            " FCN=-65670.9 FROM HESSE     STATUS=OK             31 CALLS         247 TOTAL\n",
            "                     EDM=1.1751e-06    STRATEGY= 1      ERROR MATRIX ACCURATE \n",
            "  EXT PARAMETER                                INTERNAL      INTERNAL  \n",
            "  NO.   NAME      VALUE            ERROR       STEP SIZE       VALUE   \n",
            "   1  Gauss_Norm   1.10889e+04   1.17250e+02   2.36321e-06  -1.50504e+00\n",
            "   2  Mean         5.28251e+03   2.28097e-01   2.67786e-05  -5.83446e-02\n",
            "   3  Width        2.00173e+01   2.07864e-01   1.42186e-05  -1.16790e+00\n",
            "   4  exp_Norm     9.67914e+03   1.11076e+02   2.92551e-06  -1.49555e+00\n",
            "   5  exponent    -1.83016e-03   6.09395e-05   1.07557e-06  -9.15081e-04\n",
            "                               ERR DEF= 0.5\n",
            " EXTERNAL ERROR MATRIX.    NDIM=  25    NPAR=  5    ERR DEF=0.5\n",
            "  1.375e+04 -1.240e+00  5.678e+00 -2.659e+03 -3.025e-04 \n",
            " -1.240e+00  5.203e-02 -5.074e-03  1.240e+00 -4.795e-07 \n",
            "  5.678e+00 -5.074e-03  4.321e-02 -5.678e+00 -5.473e-07 \n",
            " -2.659e+03  1.240e+00 -5.678e+00  1.234e+04  3.025e-04 \n",
            " -3.025e-04 -4.795e-07 -5.473e-07  3.025e-04  3.714e-09 \n",
            " PARAMETER  CORRELATION COEFFICIENTS  \n",
            "       NO.  GLOBAL      1      2      3      4      5\n",
            "        1  0.27985   1.000 -0.046  0.233 -0.204 -0.042\n",
            "        2  0.11827  -0.046  1.000 -0.107  0.049 -0.034\n",
            "        3  0.32243   0.233 -0.107  1.000 -0.246 -0.043\n",
            "        4  0.29076  -0.204  0.049 -0.246  1.000  0.045\n",
            "        5  0.07448  -0.042 -0.034 -0.043  0.045  1.000\n",
            "[#1] INFO:Minization -- RooMinimizer::optimizeConst: deactivating const optimization\n"
          ],
          "name": "stdout"
        }
      ]
    },
    {
      "cell_type": "code",
      "metadata": {
        "id": "bUhgxlRGd4XO",
        "colab": {
          "base_uri": "https://localhost:8080/",
          "height": 540
        },
        "outputId": "181071d0-335d-4232-db90-3432b13b4688"
      },
      "source": [
        "#Now to plot it all\r\n",
        "c = ROOT.TCanvas(\"c\", \"c\", 1000, 500)\r\n",
        "frame = mass.frame()\r\n",
        "data_to_fit.plotOn(frame)\r\n",
        "model.plotOn(frame, ROOT.RooFit.Components(\"Gauss\"),ROOT.RooFit.LineColor(8),ROOT.RooFit.LineStyle(2))\r\n",
        "model.plotOn(frame, ROOT.RooFit.Components(\"Bkgnd\"),ROOT.RooFit.LineColor(46),ROOT.RooFit.LineStyle(2))\r\n",
        "model.plotOn(frame)\r\n",
        "frame.Draw()\r\n",
        "c.Update()\r\n",
        "c.Draw()"
      ],
      "execution_count": 20,
      "outputs": [
        {
          "output_type": "stream",
          "text": [
            "[#0] ERROR:Plotting -- RooAbsPdf::plotOn(Full Model) ERROR: component selection expression 'Gauss' does not select any components of p.d.f.\n",
            "[#0] ERROR:Plotting -- RooAbsPdf::plotOn(Full Model) ERROR: component selection expression 'Bkgnd' does not select any components of p.d.f.\n"
          ],
          "name": "stdout"
        },
        {
          "output_type": "stream",
          "text": [
            "Warning in <TCanvas::Constructor>: Deleting canvas with same name: c\n"
          ],
          "name": "stderr"
        },
        {
          "output_type": "display_data",
          "data": {
            "image/png": "[encoded data removed]",
            "text/plain": [
              "<IPython.core.display.Image object>"
            ]
          },
          "metadata": {
            "tags": []
          }
        }
      ]
    },
    {
      "cell_type": "markdown",
      "metadata": {
        "id": "60b4bs1od4M_"
      },
      "source": [
        "Using this structure, you can in theory build whatever models you like!\r\n",
        "\r\n",
        "Some recommendations (but not necessary to do all):-\r\n",
        "\r\n",
        "\r\n",
        "\r\n",
        "*   Gauss+Exponential (as above)\r\n",
        "*   Crystal Ball + Exponential\r\n",
        "*   Gauss+Crystal Ball+Exponential (now you need to weigh the two signal peaks and then the total signal against total background)\r\n",
        "*   Gauss+Chebychev\r\n",
        "*   Two Crystal Balls + Exponential"
      ]
    },
    {
      "cell_type": "markdown",
      "metadata": {
        "id": "vHivSaH1dwy7"
      },
      "source": [
        "So how good was the fit, and how many events do you have?\r\n",
        "\r\n",
        "We can use the .getValV() function on our signal and background *normalisation* components, e.g. Gauss_Norm=Gauss.getValV()\r\n",
        "\r\n",
        "To find the error (on this number) we can use .getError()\r\n",
        "\r\n",
        "Neither of these measures would tell us if this was a good fit or not. Normally we use a χ2 test to do so - this is built into the image we made (so we can do frame.chiSquare() to get this data)\r\n",
        "\r\n",
        "For each model you made, print the signal and background yields (with errors) and report the χ2"
      ]
    },
    {
      "cell_type": "code",
      "metadata": {
        "colab": {
          "base_uri": "https://localhost:8080/"
        },
        "id": "2LJ3JTPZNXcN",
        "outputId": "283224b3-4c31-41b6-8993-29b1990f745e"
      },
      "source": [
        "gauss_norm = Gauss_Norm.getValV()\r\n",
        "gauss_error = Gauss_Norm.getError()\r\n",
        "gauss_fit = frame.chiSquare()\r\n",
        "\r\n",
        "print(gauss_norm, gauss_error, gauss_fit)"
      ],
      "execution_count": 21,
      "outputs": [
        {
          "output_type": "stream",
          "text": [
            "(11088.88664553507, 117.25011302539406, 25.896440878724675)\n"
          ],
          "name": "stdout"
        }
      ]
    },
    {
      "cell_type": "markdown",
      "metadata": {
        "id": "ob2HARgWoTGe"
      },
      "source": [
        "#Counting\r\n",
        "\r\n",
        "So we have now loaded our data; we have reconstructed information about the mother B meson and we have cut away any data which looks like it might not be what we are looking for. We have then plotted histograms of the mass of the B meson and used this to fit a model, a function to describe the events there. We now have to identify which of our events belong to the B<sup>+</sup> and how many of them belong to B<sup>-</sup>.\r\n",
        "\r\n",
        "To do this, should split out data into two groups (and throw away data which doesn't comply with either decay)\r\n",
        "\r\n",
        "We will be looking for the events which are\r\n",
        "\r\n",
        "\r\n",
        "B<sup>+</sup>->K<sup>+</sup> + K<sup>+</sup>  + K<sup>-</sup>\r\n",
        "\r\n",
        "or\r\n",
        "\r\n",
        "B<sup>-</sup>->K<sup>-</sup> + K<sup>-</sup>  + K<sup>+</sup>\r\n",
        "\r\n",
        "We can look for the number of positive and negative charges in H1, H2 and H3 (using the variable ```H1_Charge``` etc.). If we have 0 or 3 positive charges, we should throw the event away and if we have 1 it should be assigned be a B<sup>-</sup>, with 2 it should be a B<sup>+</sup>"
      ]
    },
    {
      "cell_type": "markdown",
      "metadata": {
        "id": "r8VB5uN1obc4"
      },
      "source": [
        "Once we have defined if it's a B<sup>+</sup> or a B <sup>-</sup>, we should go ahead and ensure the pre-selection is applied and then plot our B mass, and fit the model to find the yield.\r\n",
        "\r\n",
        "We can then calculate the assymetry from this equation:\r\n",
        "\r\n",
        "$A=\\frac{(N^{B-}-N^{B+})}{(N^{B-}+N^{B+})}$\r\n",
        "\r\n",
        "Where N<sup>B+/- </sup> is the number of events found from the fitted yield of the signal from each data set.\r\n",
        "\r\n",
        "The uncertainty on this result is given by:\r\n",
        "\r\n",
        "$\\sigma_A=\\sqrt\\frac{1-A^2}{N^{B-}+N^{B+}}$\r\n",
        "\r\n",
        "Calculate these two values for your data and print them below:"
      ]
    },
    {
      "cell_type": "code",
      "metadata": {
        "id": "zWg89dDCN1JU"
      },
      "source": [
        "#Calculation of B^+ and B^-\r\n",
        "B_plus = (\"H1_Charg e+ H2_Charge + H3_Charge == 1\")\r\n",
        "B_minus = (\"H1_Charge + H2_Charge + H3_Charge == -1\")\r\n",
        "B_plus_tree = CutTree.CopyTree(B_plus)\r\n",
        "B_minus_tree = CutTree.CopyTree(B_minus)"
      ],
      "execution_count": 22,
      "outputs": []
    },
    {
      "cell_type": "code",
      "metadata": {
        "id": "UiPNe2iuobSK",
        "colab": {
          "base_uri": "https://localhost:8080/",
          "height": 506
        },
        "outputId": "22550c33-cf41-4675-cdbb-d6a201d161b6"
      },
      "source": [
        "#Plot\r\n",
        "c = ROOT.TCanvas(\"c\", \"c\", 1000, 500)\r\n",
        "B_plus_tree.Draw(\"M_m0 >> h1(250, 5100, 5500)\")\r\n",
        "h_1 = ROOT.gDirectory.Get(\"h1\")\r\n",
        "B_minus_tree.Draw(\"M_m0 >> h2(250, 5100, 5500)\")\r\n",
        "h_2 = ROOT.gDirectory.Get(\"h2\")\r\n",
        "\r\n",
        "h_1.SetTitle(\"B^+ and B^-\")\r\n",
        "h_1.SetLineColor(4)\r\n",
        "h_2.SetLineColor(2)\r\n",
        "\r\n",
        "l = ROOT.TLegend(0.85, 0.7, 0.6, 0.85)\r\n",
        "l.SetHeader(\"Legend\")\r\n",
        "l.AddEntry(h_1, \"B^+\")\r\n",
        "l.AddEntry(h_2, \"B^-\")\r\n",
        "\r\n",
        "h_1.Draw()\r\n",
        "h_2.Draw(\"SAME\")\r\n",
        "l.Draw(\"SAME\")\r\n",
        "c.Update()\r\n",
        "c.Draw()"
      ],
      "execution_count": 23,
      "outputs": [
        {
          "output_type": "stream",
          "text": [
            "Warning in <TCanvas::Constructor>: Deleting canvas with same name: c\n"
          ],
          "name": "stderr"
        },
        {
          "output_type": "display_data",
          "data": {
            "image/png": "[encoded data removed]",
            "text/plain": [
              "<IPython.core.display.Image object>"
            ]
          },
          "metadata": {
            "tags": []
          }
        }
      ]
    },
    {
      "cell_type": "code",
      "metadata": {
        "colab": {
          "base_uri": "https://localhost:8080/"
        },
        "id": "vjo1ptFWrGxB",
        "outputId": "4f3a9968-19ce-4ee1-b701-27a84cc9129d"
      },
      "source": [
        "#For B^+\r\n",
        "mass = ROOT.RooRealVar(\"M_m0\",\"Mass\",5000,5600,\"MeV/C^{2}\")\r\n",
        "\r\n",
        "gaussMean = ROOT.RooRealVar(\"Mean\",\"Mean\",5200,5000,5600)\r\n",
        "gaussWidth = ROOT.RooRealVar(\"Width\",\"Width\",10,0,500)\r\n",
        "\r\n",
        "Gauss=ROOT.RooGaussian(\"Gauss\",\"Gaussian Signal\",mass,gaussMean,gaussWidth)\r\n",
        "Gauss_Norm= ROOT.RooRealVar(\"Gauss_Norm\",\"Signal Yield\", tree.GetEntries()/30, 0, tree.GetEntries() * 3)\r\n",
        "\r\n",
        "exponent=ROOT.RooRealVar(\"exponent\", \"C\", -0.02, -2, +2)\r\n",
        "exp_Norm= ROOT.RooRealVar(\"exp_Norm\",\"Background Yield\", tree.GetEntries()/30, 0, tree.GetEntries() * 2)\r\n",
        "\r\n",
        "Bkgnd=ROOT.RooExponential(\"Bkgnd\",\"Exponential Background\",mass,exponent)\r\n",
        "\r\n",
        "model=ROOT.RooAddPdf(\"Full Model\",\"model\",ROOT.RooArgList(Gauss,Bkgnd),ROOT.RooArgList(Gauss_Norm, exp_Norm) )\r\n",
        "\r\n",
        "data_to_fit=ROOT.RooDataSet(\"Data Set\",\"data_to_fit\", B_plus_tree, ROOT.RooArgSet(mass))\r\n",
        "\r\n",
        "model.fitTo(data_to_fit)"
      ],
      "execution_count": 24,
      "outputs": [
        {
          "output_type": "execute_result",
          "data": {
            "text/plain": [
              "<ROOT.RooFitResult object at 0x(nil)>"
            ]
          },
          "metadata": {
            "tags": []
          },
          "execution_count": 24
        },
        {
          "output_type": "stream",
          "text": [
            "[#1] INFO:Eval -- RooAbsReal::attachToTree(M_m0) TTree Float_t branch M_m0 will be converted to double precision\n",
            "[#1] INFO:Eval -- RooTreeDataStore::loadValues(Data Set) Ignored 2680 out of range events\n",
            "[#1] INFO:Minization -- p.d.f. provides expected number of events, including extended term in likelihood.\n",
            "[#1] INFO:Minization -- RooMinimizer::optimizeConst: activating const optimization\n",
            "[#1] INFO:Minization --  The following expressions will be evaluated in cache-and-track mode: (Gauss,Bkgnd)\n",
            " **********\n",
            " **   10 **SET PRINT           1\n",
            " **********\n",
            " **********\n",
            " **   11 **SET NOGRAD\n",
            " **********\n",
            " PARAMETER DEFINITIONS:\n",
            "    NO.   NAME         VALUE      STEP SIZE      LIMITS\n",
            "     1 Gauss_Norm   1.14006e+05  5.70030e+04    0.00000e+00  1.02606e+07\n",
            " MINUIT WARNING IN PARAM DEF\n",
            " ============== LIMITS ON PARAM1 TOO FAR APART.\n",
            " PARAMETER DEFINITIONS:\n",
            "    NO.   NAME         VALUE      STEP SIZE      LIMITS\n",
            "     2 Mean         5.20000e+03  6.00000e+01    5.00000e+03  5.60000e+03\n",
            "     3 Width        1.00000e+01  5.00000e+00    0.00000e+00  5.00000e+02\n",
            "     4 exp_Norm     1.14006e+05  5.70030e+04    0.00000e+00  6.84039e+06\n",
            "     5 exponent    -2.00000e-02  4.00000e-01   -2.00000e+00  2.00000e+00\n",
            " **********\n",
            " **   12 **SET ERR         0.5\n",
            " **********\n",
            " **********\n",
            " **   13 **SET PRINT           1\n",
            " **********\n",
            " **********\n",
            " **   14 **SET STR           1\n",
            " **********\n",
            " NOW USING STRATEGY  1: TRY TO BALANCE SPEED AGAINST RELIABILITY\n",
            " **********\n",
            " **   15 **MIGRAD        2500           1\n",
            " **********\n",
            " FIRST CALL TO USER FUNCTION AT NEW START POINT, WITH IFLAG=4.\n",
            " START MIGRAD MINIMIZATION.  STRATEGY  1.  CONVERGENCE WHEN EDM .LT. 1.00e-03\n",
            "[#0] WARNING:Minization -- RooMinimizerFcn: Minimized function has error status.\n",
            "Returning maximum FCN so far (413117) to force MIGRAD to back out of this region. Error log follows\n",
            "Parameter values: Gauss_Norm=114006, Mean=5200, Width=10, exp_Norm=114006, exponent=-0.14434\n",
            "RooAddPdf::Full Model[ Gauss_Norm * Gauss + exp_Norm * Bkgnd ]\n",
            "     getLogVal() top-level p.d.f evaluates to zero @ !refCoefNorm=(), !pdfs=(Gauss = 0/25.0663,Bkgnd = 0/2.57811e-313), !coefficients=(Gauss_Norm = 114006,exp_Norm = 114006)\n",
            "     getLogVal() top-level p.d.f evaluates to zero @ !refCoefNorm=(), !pdfs=(Gauss = 0/25.0663,Bkgnd = 0/2.57811e-313), !coefficients=(Gauss_Norm = 114006,exp_Norm = 114006)\n",
            "     getLogVal() top-level p.d.f evaluates to zero @ !refCoefNorm=(), !pdfs=(Gauss = 0/25.0663,Bkgnd = 0/2.57811e-313), !coefficients=(Gauss_Norm = 114006,exp_Norm = 114006)\n",
            "     getLogVal() top-level p.d.f evaluates to zero @ !refCoefNorm=(), !pdfs=(Gauss = 0/25.0663,Bkgnd = 0/2.57811e-313), !coefficients=(Gauss_Norm = 114006,exp_Norm = 114006)\n",
            "     getLogVal() top-level p.d.f evaluates to zero @ !refCoefNorm=(), !pdfs=(Gauss = 0/25.0663,Bkgnd = 0/2.57811e-313), !coefficients=(Gauss_Norm = 114006,exp_Norm = 114006)\n",
            "     getLogVal() top-level p.d.f evaluates to zero @ !refCoefNorm=(), !pdfs=(Gauss = 1.23516e-322/25.0663,Bkgnd = 0/2.57811e-313), !coefficients=(Gauss_Norm = 114006,exp_Norm = 114006)\n",
            "     getLogVal() top-level p.d.f evaluates to zero @ !refCoefNorm=(), !pdfs=(Gauss = 0/25.0663,Bkgnd = 0/2.57811e-313), !coefficients=(Gauss_Norm = 114006,exp_Norm = 114006)\n",
            "     getLogVal() top-level p.d.f evaluates to zero @ !refCoefNorm=(), !pdfs=(Gauss = 0/25.0663,Bkgnd = 0/2.57811e-313), !coefficients=(Gauss_Norm = 114006,exp_Norm = 114006)\n",
            "     getLogVal() top-level p.d.f evaluates to zero @ !refCoefNorm=(), !pdfs=(Gauss = 0/25.0663,Bkgnd = 0/2.57811e-313), !coefficients=(Gauss_Norm = 114006,exp_Norm = 114006)\n",
            "     getLogVal() top-level p.d.f evaluates to zero @ !refCoefNorm=(), !pdfs=(Gauss = 0/25.0663,Bkgnd = 0/2.57811e-313), !coefficients=(Gauss_Norm = 114006,exp_Norm = 114006)\n",
            "     getLogVal() top-level p.d.f evaluates to zero @ !refCoefNorm=(), !pdfs=(Gauss = 0/25.0663,Bkgnd = 0/2.57811e-313), !coefficients=(Gauss_Norm = 114006,exp_Norm = 114006)\n",
            "     getLogVal() top-level p.d.f evaluates to zero @ !refCoefNorm=(), !pdfs=(Gauss = 0/25.0663,Bkgnd = 0/2.57811e-313), !coefficients=(Gauss_Norm = 114006,exp_Norm = 114006)\n",
            "    ... (remaining 43 messages suppressed)\n",
            "RooNLLVar::nll_Full Model_Data Set[ paramSet=(Gauss_Norm,Mean,Width,exp_Norm,exponent) ]\n",
            "     function value is NAN @ paramSet=(Gauss_Norm = 114006,Mean = 5200,Width = 10,exp_Norm = 114006,exponent = -0.14434)\n",
            "\n",
            " FCN=172703 FROM MIGRAD    STATUS=INITIATE       49 CALLS          50 TOTAL\n",
            "                     EDM= unknown      STRATEGY= 1      NO ERROR MATRIX       \n",
            "  EXT PARAMETER               CURRENT GUESS       STEP         FIRST   \n",
            "  NO.   NAME      VALUE            ERROR          SIZE      DERIVATIVE \n",
            "   1  Gauss_Norm   1.14006e+05   5.70030e+04   0.00000e+00   1.02062e+06\n",
            "   2  Mean         5.28311e+03   6.00000e+01   2.83498e-01  -2.26753e+04\n",
            "   3  Width        1.00000e+01   5.00000e+00   0.00000e+00  -7.02179e+04\n",
            "   4  exp_Norm     1.14006e+05   5.70030e+04   0.00000e+00   8.37821e+05\n",
            "   5  exponent    -2.00000e-02   4.00000e-01   0.00000e+00  -1.97128e+06\n",
            "                               ERR DEF= 0.5\n",
            "[#0] WARNING:Minization -- RooMinimizerFcn: Minimized function has error status.\n",
            "Returning maximum FCN so far (413117) to force MIGRAD to back out of this region. Error log follows\n",
            "Parameter values: Gauss_Norm=757.197, Mean=5285.18, Width=18.2546, exp_Norm=411.848, exponent=0.693673\n",
            "RooAddPdf::Full Model[ Gauss_Norm * Gauss + exp_Norm * Bkgnd ]\n",
            "     p.d.f value is Not-a-Number (-nan), forcing value to zero @ !refCoefNorm=(), !pdfs=(Gauss = 0.00234708/45.7574,Bkgnd = inf/-nan), !coefficients=(Gauss_Norm = 757.197,exp_Norm = 411.848)\n",
            "     getLogVal() top-level p.d.f evaluates to zero @ !refCoefNorm=(), !pdfs=(Gauss = 0.00234708/45.7574,Bkgnd = inf/-nan), !coefficients=(Gauss_Norm = 757.197,exp_Norm = 411.848)\n",
            "     p.d.f value is Not-a-Number (-nan), forcing value to zero @ !refCoefNorm=(), !pdfs=(Gauss = 0.254472/45.7574,Bkgnd = inf/-nan), !coefficients=(Gauss_Norm = 757.197,exp_Norm = 411.848)\n",
            "     getLogVal() top-level p.d.f evaluates to zero @ !refCoefNorm=(), !pdfs=(Gauss = 0.254472/45.7574,Bkgnd = inf/-nan), !coefficients=(Gauss_Norm = 757.197,exp_Norm = 411.848)\n",
            "     p.d.f value is Not-a-Number (-nan), forcing value to zero @ !refCoefNorm=(), !pdfs=(Gauss = 0.994734/45.7574,Bkgnd = inf/-nan), !coefficients=(Gauss_Norm = 757.197,exp_Norm = 411.848)\n",
            "     getLogVal() top-level p.d.f evaluates to zero @ !refCoefNorm=(), !pdfs=(Gauss = 0.994734/45.7574,Bkgnd = inf/-nan), !coefficients=(Gauss_Norm = 757.197,exp_Norm = 411.848)\n",
            "     p.d.f value is Not-a-Number (-nan), forcing value to zero @ !refCoefNorm=(), !pdfs=(Gauss = 1.28705e-18/45.7574,Bkgnd = inf/-nan), !coefficients=(Gauss_Norm = 757.197,exp_Norm = 411.848)\n",
            "     getLogVal() top-level p.d.f evaluates to zero @ !refCoefNorm=(), !pdfs=(Gauss = 1.28705e-18/45.7574,Bkgnd = inf/-nan), !coefficients=(Gauss_Norm = 757.197,exp_Norm = 411.848)\n",
            "     p.d.f value is Not-a-Number (-nan), forcing value to zero @ !refCoefNorm=(), !pdfs=(Gauss = 0.996227/45.7574,Bkgnd = inf/-nan), !coefficients=(Gauss_Norm = 757.197,exp_Norm = 411.848)\n",
            "     getLogVal() top-level p.d.f evaluates to zero @ !refCoefNorm=(), !pdfs=(Gauss = 0.996227/45.7574,Bkgnd = inf/-nan), !coefficients=(Gauss_Norm = 757.197,exp_Norm = 411.848)\n",
            "     p.d.f value is Not-a-Number (-nan), forcing value to zero @ !refCoefNorm=(), !pdfs=(Gauss = 0.42045/45.7574,Bkgnd = inf/-nan), !coefficients=(Gauss_Norm = 757.197,exp_Norm = 411.848)\n",
            "     getLogVal() top-level p.d.f evaluates to zero @ !refCoefNorm=(), !pdfs=(Gauss = 0.42045/45.7574,Bkgnd = inf/-nan), !coefficients=(Gauss_Norm = 757.197,exp_Norm = 411.848)\n",
            "    ... (remaining 2038 messages suppressed)\n",
            "RooNLLVar::nll_Full Model_Data Set[ paramSet=(Gauss_Norm,Mean,Width,exp_Norm,exponent) ]\n",
            "     function value is NAN @ paramSet=(Gauss_Norm = 757.197,Mean = 5285.18,Width = 18.2546,exp_Norm = 411.848,exponent = 0.693673)\n",
            "RooRealIntegral::Bkgnd_Int[M_m0][ Int Bkgndd[Ana](M_m0) ]\n",
            "     function value is NAN @ !sumList=(), !intList=(), !anaList=(M_m0 = 5323.05), !jacList=(), !facList=(), !func=Bkgnd=inf/5.3505e-43, !sumCat=()\n",
            "\n",
            "[#0] WARNING:Minization -- RooMinimizerFcn: Minimized function has error status.\n",
            "Returning maximum FCN so far (413117) to force MIGRAD to back out of this region. Error log follows\n",
            "Parameter values: Gauss_Norm=44126.1, Mean=5283.96, Width=13.1112, exp_Norm=42933.9, exponent=0.279254\n",
            "RooAddPdf::Full Model[ Gauss_Norm * Gauss + exp_Norm * Bkgnd ]\n",
            "     p.d.f value is Not-a-Number (-nan), forcing value to zero @ !refCoefNorm=(), !pdfs=(Gauss = 1.24787e-05/32.865,Bkgnd = inf/-nan), !coefficients=(Gauss_Norm = 44126.1,exp_Norm = 42933.9)\n",
            "     getLogVal() top-level p.d.f evaluates to zero @ !refCoefNorm=(), !pdfs=(Gauss = 1.24787e-05/32.865,Bkgnd = inf/-nan), !coefficients=(Gauss_Norm = 44126.1,exp_Norm = 42933.9)\n",
            "     p.d.f value is Not-a-Number (-nan), forcing value to zero @ !refCoefNorm=(), !pdfs=(Gauss = 0.0868498/32.865,Bkgnd = inf/-nan), !coefficients=(Gauss_Norm = 44126.1,exp_Norm = 42933.9)\n",
            "     getLogVal() top-level p.d.f evaluates to zero @ !refCoefNorm=(), !pdfs=(Gauss = 0.0868498/32.865,Bkgnd = inf/-nan), !coefficients=(Gauss_Norm = 44126.1,exp_Norm = 42933.9)\n",
            "     p.d.f value is Not-a-Number (-nan), forcing value to zero @ !refCoefNorm=(), !pdfs=(Gauss = 0.97258/32.865,Bkgnd = inf/-nan), !coefficients=(Gauss_Norm = 44126.1,exp_Norm = 42933.9)\n",
            "     getLogVal() top-level p.d.f evaluates to zero @ !refCoefNorm=(), !pdfs=(Gauss = 0.97258/32.865,Bkgnd = inf/-nan), !coefficients=(Gauss_Norm = 44126.1,exp_Norm = 42933.9)\n",
            "     p.d.f value is Not-a-Number (-nan), forcing value to zero @ !refCoefNorm=(), !pdfs=(Gauss = 6.7217e-35/32.865,Bkgnd = inf/-nan), !coefficients=(Gauss_Norm = 44126.1,exp_Norm = 42933.9)\n",
            "     getLogVal() top-level p.d.f evaluates to zero @ !refCoefNorm=(), !pdfs=(Gauss = 6.7217e-35/32.865,Bkgnd = inf/-nan), !coefficients=(Gauss_Norm = 44126.1,exp_Norm = 42933.9)\n",
            "     p.d.f value is Not-a-Number (-nan), forcing value to zero @ !refCoefNorm=(), !pdfs=(Gauss = 0.977404/32.865,Bkgnd = inf/-nan), !coefficients=(Gauss_Norm = 44126.1,exp_Norm = 42933.9)\n",
            "     getLogVal() top-level p.d.f evaluates to zero @ !refCoefNorm=(), !pdfs=(Gauss = 0.977404/32.865,Bkgnd = inf/-nan), !coefficients=(Gauss_Norm = 44126.1,exp_Norm = 42933.9)\n",
            "     p.d.f value is Not-a-Number (-nan), forcing value to zero @ !refCoefNorm=(), !pdfs=(Gauss = 0.220059/32.865,Bkgnd = inf/-nan), !coefficients=(Gauss_Norm = 44126.1,exp_Norm = 42933.9)\n",
            "     getLogVal() top-level p.d.f evaluates to zero @ !refCoefNorm=(), !pdfs=(Gauss = 0.220059/32.865,Bkgnd = inf/-nan), !coefficients=(Gauss_Norm = 44126.1,exp_Norm = 42933.9)\n",
            "    ... (remaining 2038 messages suppressed)\n",
            "RooNLLVar::nll_Full Model_Data Set[ paramSet=(Gauss_Norm,Mean,Width,exp_Norm,exponent) ]\n",
            "     function value is NAN @ paramSet=(Gauss_Norm = 44126.1,Mean = 5283.96,Width = 13.1112,exp_Norm = 42933.9,exponent = 0.279254)\n",
            "RooRealIntegral::Bkgnd_Int[M_m0][ Int Bkgndd[Ana](M_m0) ]\n",
            "     function value is NAN @ !sumList=(), !intList=(), !anaList=(M_m0 = 5323.05), !jacList=(), !facList=(), !func=Bkgnd=inf/-nan, !sumCat=()\n",
            "\n",
            " MIGRAD MINIMIZATION HAS CONVERGED.\n",
            " MIGRAD WILL VERIFY CONVERGENCE AND ERROR MATRIX.\n",
            " COVARIANCE MATRIX CALCULATED SUCCESSFULLY\n",
            " FCN=-27063.5 FROM MIGRAD    STATUS=CONVERGED     222 CALLS         223 TOTAL\n",
            "                     EDM=1.57011e-06    STRATEGY= 1      ERROR MATRIX ACCURATE \n",
            "  EXT PARAMETER                                   STEP         FIRST   \n",
            "  NO.   NAME      VALUE            ERROR          SIZE      DERIVATIVE \n",
            "   1  Gauss_Norm   5.85471e+03   8.51227e+01   3.78699e-05  -3.88218e-01\n",
            "   2  Mean         5.28324e+03   3.17356e-01   1.19383e-04  -2.85822e-01\n",
            "   3  Width        2.02296e+01   2.90303e-01   3.16179e-04   8.46202e-02\n",
            "   4  exp_Norm     4.89726e+03   7.92979e+01   4.70320e-05  -8.28191e-01\n",
            "   5  exponent    -1.65876e-03   8.51357e-05   4.82492e-06  -2.59372e+01\n",
            "                               ERR DEF= 0.5\n",
            " EXTERNAL ERROR MATRIX.    NDIM=  25    NPAR=  5    ERR DEF=0.5\n",
            "  7.246e+03 -1.368e+00  5.808e+00 -1.390e+03 -2.613e-04 \n",
            " -1.368e+00  1.007e-01 -1.097e-02  1.367e+00 -9.765e-07 \n",
            "  5.808e+00 -1.097e-02  8.428e-02 -5.806e+00 -8.680e-07 \n",
            " -1.390e+03  1.367e+00 -5.806e+00  6.288e+03  2.615e-04 \n",
            " -2.613e-04 -9.765e-07 -8.680e-07  2.615e-04  7.248e-09 \n",
            " PARAMETER  CORRELATION COEFFICIENTS  \n",
            "       NO.  GLOBAL      1      2      3      4      5\n",
            "        1  0.28136   1.000 -0.051  0.235 -0.206 -0.036\n",
            "        2  0.13010  -0.051  1.000 -0.119  0.054 -0.036\n",
            "        3  0.32984   0.235 -0.119  1.000 -0.252 -0.035\n",
            "        4  0.29585  -0.206  0.054 -0.252  1.000  0.039\n",
            "        5  0.06724  -0.036 -0.036 -0.035  0.039  1.000\n",
            " **********\n",
            " **   16 **SET ERR         0.5\n",
            " **********\n",
            " **********\n",
            " **   17 **SET PRINT           1\n",
            " **********\n",
            " **********\n",
            " **   18 **HESSE        2500\n",
            " **********\n",
            " COVARIANCE MATRIX CALCULATED SUCCESSFULLY\n",
            " FCN=-27063.5 FROM HESSE     STATUS=OK             31 CALLS         254 TOTAL\n",
            "                     EDM=1.57151e-06    STRATEGY= 1      ERROR MATRIX ACCURATE \n",
            "  EXT PARAMETER                                INTERNAL      INTERNAL  \n",
            "  NO.   NAME      VALUE            ERROR       STEP SIZE       VALUE   \n",
            "   1  Gauss_Norm   5.85471e+03   8.51344e+01   1.51480e-06  -1.52302e+00\n",
            "   2  Mean         5.28324e+03   3.17401e-01   2.38766e-05  -5.58899e-02\n",
            "   3  Width        2.02296e+01   2.90404e-01   1.26472e-05  -1.16574e+00\n",
            "   4  exp_Norm     4.89726e+03   7.93116e+01   9.40641e-06  -1.51728e+00\n",
            "   5  exponent    -1.65876e-03   8.51371e-05   9.64984e-07  -8.29381e-04\n",
            "                               ERR DEF= 0.5\n",
            " EXTERNAL ERROR MATRIX.    NDIM=  25    NPAR=  5    ERR DEF=0.5\n",
            "  7.248e+03 -1.374e+00  5.822e+00 -1.393e+03 -2.629e-04 \n",
            " -1.374e+00  1.007e-01 -1.109e-02  1.373e+00 -9.749e-07 \n",
            "  5.822e+00 -1.109e-02  8.433e-02 -5.822e+00 -8.742e-07 \n",
            " -1.393e+03  1.373e+00 -5.822e+00  6.290e+03  2.629e-04 \n",
            " -2.629e-04 -9.749e-07 -8.742e-07  2.629e-04  7.248e-09 \n",
            " PARAMETER  CORRELATION COEFFICIENTS  \n",
            "       NO.  GLOBAL      1      2      3      4      5\n",
            "        1  0.28181   1.000 -0.051  0.236 -0.206 -0.036\n",
            "        2  0.13118  -0.051  1.000 -0.120  0.055 -0.036\n",
            "        3  0.33078   0.236 -0.120  1.000 -0.253 -0.035\n",
            "        4  0.29638  -0.206  0.055 -0.253  1.000  0.039\n",
            "        5  0.06748  -0.036 -0.036 -0.035  0.039  1.000\n",
            "[#1] INFO:Minization -- RooMinimizer::optimizeConst: deactivating const optimization\n"
          ],
          "name": "stdout"
        }
      ]
    },
    {
      "cell_type": "code",
      "metadata": {
        "colab": {
          "base_uri": "https://localhost:8080/"
        },
        "id": "FHpZe8pprJYx",
        "outputId": "27928c6e-ed57-4a68-cadf-6a1b98571482"
      },
      "source": [
        "B_plus_norm = Gauss_Norm.getValV()\r\n",
        "B_plus_error = Gauss_Norm.getError()\r\n",
        "B_plus_fit = frame.chiSquare()\r\n",
        "\r\n",
        "print(B_plus_norm, B_plus_error, B_plus_fit)"
      ],
      "execution_count": 25,
      "outputs": [
        {
          "output_type": "stream",
          "text": [
            "(5854.706169508275, 85.13436538880296, 25.896440878724675)\n"
          ],
          "name": "stdout"
        }
      ]
    },
    {
      "cell_type": "code",
      "metadata": {
        "colab": {
          "base_uri": "https://localhost:8080/"
        },
        "id": "hg5XTsIIrRw5",
        "outputId": "bc66e1e0-9146-4e6b-b4d6-e0335b25af6c"
      },
      "source": [
        "mass = ROOT.RooRealVar(\"M_m0\",\"Mass\",5150,5400,\"MeV/C^{2}\")\r\n",
        "\r\n",
        "gaussMean = ROOT.RooRealVar(\"Mean\",\"Mean\",5200,5000,5600)\r\n",
        "gaussWidth = ROOT.RooRealVar(\"Width\",\"Width\",10,0,500)\r\n",
        "\r\n",
        "Gauss=ROOT.RooGaussian(\"Gauss\",\"Gaussian Signal\",mass,gaussMean,gaussWidth)\r\n",
        "Gauss_Norm= ROOT.RooRealVar(\"Gauss_Norm\",\"Signal Yield\", tree.GetEntries()/30, 0, tree.GetEntries() * 3)\r\n",
        "\r\n",
        "exponent=ROOT.RooRealVar(\"exponent\", \"C\", -0.02, -2, +2)\r\n",
        "exp_Norm= ROOT.RooRealVar(\"exp_Norm\",\"Background Yield\", tree.GetEntries()/30, 0, tree.GetEntries() * 2)\r\n",
        "\r\n",
        "Bkgnd=ROOT.RooExponential(\"Bkgnd\",\"Exponential Background\",mass,exponent)\r\n",
        "\r\n",
        "model=ROOT.RooAddPdf(\"Full Model\",\"model\",ROOT.RooArgList(Gauss,Bkgnd),ROOT.RooArgList(Gauss_Norm, exp_Norm) )\r\n",
        "\r\n",
        "data_to_fit=ROOT.RooDataSet(\"Data Set\",\"data_to_fit\", B_minus_tree, ROOT.RooArgSet(mass))\r\n",
        "\r\n",
        "model.fitTo(data_to_fit)\r\n"
      ],
      "execution_count": 26,
      "outputs": [
        {
          "output_type": "execute_result",
          "data": {
            "text/plain": [
              "<ROOT.RooFitResult object at 0x(nil)>"
            ]
          },
          "metadata": {
            "tags": []
          },
          "execution_count": 26
        },
        {
          "output_type": "stream",
          "text": [
            "[#1] INFO:Eval -- RooAbsReal::attachToTree(M_m0) TTree Float_t branch M_m0 will be converted to double precision\n",
            "[#1] INFO:Eval -- RooTreeDataStore::loadValues(Data Set) Ignored 5170 out of range events\n",
            "[#1] INFO:Minization -- p.d.f. provides expected number of events, including extended term in likelihood.\n",
            "[#1] INFO:Minization -- RooMinimizer::optimizeConst: activating const optimization\n",
            "[#1] INFO:Minization --  The following expressions will be evaluated in cache-and-track mode: (Gauss,Bkgnd)\n",
            " **********\n",
            " **   19 **SET PRINT           1\n",
            " **********\n",
            " **********\n",
            " **   20 **SET NOGRAD\n",
            " **********\n",
            " PARAMETER DEFINITIONS:\n",
            "    NO.   NAME         VALUE      STEP SIZE      LIMITS\n",
            "     1 Gauss_Norm   1.14006e+05  5.70030e+04    0.00000e+00  1.02606e+07\n",
            " MINUIT WARNING IN PARAM DEF\n",
            " ============== LIMITS ON PARAM1 TOO FAR APART.\n",
            " PARAMETER DEFINITIONS:\n",
            "    NO.   NAME         VALUE      STEP SIZE      LIMITS\n",
            "     2 Mean         5.20000e+03  6.00000e+01    5.00000e+03  5.60000e+03\n",
            "     3 Width        1.00000e+01  5.00000e+00    0.00000e+00  5.00000e+02\n",
            "     4 exp_Norm     1.14006e+05  5.70030e+04    0.00000e+00  6.84039e+06\n",
            "     5 exponent    -2.00000e-02  4.00000e-01   -2.00000e+00  2.00000e+00\n",
            " **********\n",
            " **   21 **SET ERR         0.5\n",
            " **********\n",
            " **********\n",
            " **   22 **SET PRINT           1\n",
            " **********\n",
            " **********\n",
            " **   23 **SET STR           1\n",
            " **********\n",
            " NOW USING STRATEGY  1: TRY TO BALANCE SPEED AGAINST RELIABILITY\n",
            " **********\n",
            " **   24 **MIGRAD        2500           1\n",
            " **********\n",
            " FIRST CALL TO USER FUNCTION AT NEW START POINT, WITH IFLAG=4.\n",
            " START MIGRAD MINIMIZATION.  STRATEGY  1.  CONVERGENCE WHEN EDM .LT. 1.00e-03\n",
            " FCN=177804 FROM MIGRAD    STATUS=INITIATE       48 CALLS          49 TOTAL\n",
            "                     EDM= unknown      STRATEGY= 1      NO ERROR MATRIX       \n",
            "  EXT PARAMETER               CURRENT GUESS       STEP         FIRST   \n",
            "  NO.   NAME      VALUE            ERROR          SIZE      DERIVATIVE \n",
            "   1  Gauss_Norm   1.14006e+05   5.70030e+04   0.00000e+00   1.03460e+06\n",
            "   2  Mean         5.28335e+03   6.00000e+01   2.84319e-01  -9.55584e+03\n",
            "   3  Width        1.00000e+01   5.00000e+00   0.00000e+00  -2.51479e+04\n",
            "   4  exp_Norm     1.14006e+05   5.70030e+04   0.00000e+00   8.53224e+05\n",
            "   5  exponent    -2.00000e-02   4.00000e-01   0.00000e+00  -3.91648e+05\n",
            "                               ERR DEF= 0.5\n",
            " MIGRAD MINIMIZATION HAS CONVERGED.\n",
            " MIGRAD WILL VERIFY CONVERGENCE AND ERROR MATRIX.\n",
            " COVARIANCE MATRIX CALCULATED SUCCESSFULLY\n",
            " FCN=-21068.5 FROM MIGRAD    STATUS=CONVERGED     207 CALLS         208 TOTAL\n",
            "                     EDM=6.90752e-06    STRATEGY= 1      ERROR MATRIX ACCURATE \n",
            "  EXT PARAMETER                                   STEP         FIRST   \n",
            "  NO.   NAME      VALUE            ERROR          SIZE      DERIVATIVE \n",
            "   1  Gauss_Norm   5.20640e+03   8.50045e+01   3.35472e-05   3.46952e+00\n",
            "   2  Mean         5.28177e+03   3.30467e-01   1.08719e-04   8.54438e-01\n",
            "   3  Width        1.96134e+01   3.16303e-01   2.89349e-04  -6.80555e-01\n",
            "   4  exp_Norm     2.05869e+03   6.38582e+01   4.67490e-05   8.24068e-01\n",
            "   5  exponent    -2.28608e-03   3.27426e-04   1.60208e-05  -3.45819e+00\n",
            "                               ERR DEF= 0.5\n",
            " EXTERNAL ERROR MATRIX.    NDIM=  25    NPAR=  5    ERR DEF=0.5\n",
            "  7.226e+03 -1.406e+00  8.567e+00 -2.019e+03 -2.851e-03 \n",
            " -1.406e+00  1.092e-01 -1.050e-02  1.405e+00 -1.497e-05 \n",
            "  8.567e+00 -1.050e-02  1.000e-01 -8.564e+00 -9.815e-06 \n",
            " -2.019e+03  1.405e+00 -8.564e+00  4.078e+03  2.853e-03 \n",
            " -2.851e-03 -1.497e-05 -9.815e-06  2.853e-03  1.072e-07 \n",
            " PARAMETER  CORRELATION COEFFICIENTS  \n",
            "       NO.  GLOBAL      1      2      3      4      5\n",
            "        1  0.41502   1.000 -0.050  0.319 -0.372 -0.102\n",
            "        2  0.18537  -0.050  1.000 -0.100  0.067 -0.138\n",
            "        3  0.46462   0.319 -0.100  1.000 -0.424 -0.095\n",
            "        4  0.49921  -0.372  0.067 -0.424  1.000  0.136\n",
            "        5  0.21400  -0.102 -0.138 -0.095  0.136  1.000\n",
            " **********\n",
            " **   25 **SET ERR         0.5\n",
            " **********\n",
            " **********\n",
            " **   26 **SET PRINT           1\n",
            " **********\n",
            " **********\n",
            " **   27 **HESSE        2500\n",
            " **********\n",
            " COVARIANCE MATRIX CALCULATED SUCCESSFULLY\n",
            " FCN=-21068.5 FROM HESSE     STATUS=OK             31 CALLS         239 TOTAL\n",
            "                     EDM=6.90685e-06    STRATEGY= 1      ERROR MATRIX ACCURATE \n",
            "  EXT PARAMETER                                INTERNAL      INTERNAL  \n",
            "  NO.   NAME      VALUE            ERROR       STEP SIZE       VALUE   \n",
            "   1  Gauss_Norm   5.20640e+03   8.50322e+01   6.70943e-06  -1.52574e+00\n",
            "   2  Mean         5.28177e+03   3.30501e-01   2.17437e-05  -6.08092e-02\n",
            "   3  Width        1.96134e+01   3.16510e-01   5.78697e-05  -1.17204e+00\n",
            "   4  exp_Norm     2.05869e+03   6.38959e+01   9.34981e-06  -1.53610e+00\n",
            "   5  exponent    -2.28608e-03   3.27470e-04   3.20416e-06  -1.14304e-03\n",
            "                               ERR DEF= 0.5\n",
            " EXTERNAL ERROR MATRIX.    NDIM=  25    NPAR=  5    ERR DEF=0.5\n",
            "  7.230e+03 -1.412e+00  8.595e+00 -2.024e+03 -2.870e-03 \n",
            " -1.412e+00  1.092e-01 -1.062e-02  1.411e+00 -1.496e-05 \n",
            "  8.595e+00 -1.062e-02  1.002e-01 -8.594e+00 -9.895e-06 \n",
            " -2.024e+03  1.411e+00 -8.594e+00  4.083e+03  2.871e-03 \n",
            " -2.870e-03 -1.496e-05 -9.895e-06  2.871e-03  1.072e-07 \n",
            " PARAMETER  CORRELATION COEFFICIENTS  \n",
            "       NO.  GLOBAL      1      2      3      4      5\n",
            "        1  0.41567   1.000 -0.050  0.319 -0.373 -0.103\n",
            "        2  0.18591  -0.050  1.000 -0.102  0.067 -0.138\n",
            "        3  0.46572   0.319 -0.102  1.000 -0.425 -0.095\n",
            "        4  0.50010  -0.373  0.067 -0.425  1.000  0.137\n",
            "        5  0.21460  -0.103 -0.138 -0.095  0.137  1.000\n",
            "[#1] INFO:Minization -- RooMinimizer::optimizeConst: deactivating const optimization\n"
          ],
          "name": "stdout"
        }
      ]
    },
    {
      "cell_type": "code",
      "metadata": {
        "colab": {
          "base_uri": "https://localhost:8080/"
        },
        "id": "EJ1uHxocrSGk",
        "outputId": "594dc364-3e43-4083-8cf2-a274b0774639"
      },
      "source": [
        "B_minus_norm = Gauss_Norm.getValV()\r\n",
        "B_minus_error = Gauss_Norm.getError()\r\n",
        "B_minus_fit = frame.chiSquare()\r\n",
        "\r\n",
        "print(B_minus_norm, B_minus_error, B_minus_fit)"
      ],
      "execution_count": 27,
      "outputs": [
        {
          "output_type": "stream",
          "text": [
            "(5206.403624417081, 85.03221701418306, 25.896440878724675)\n"
          ],
          "name": "stdout"
        }
      ]
    },
    {
      "cell_type": "code",
      "metadata": {
        "id": "-a0mSIscSLP7"
      },
      "source": [
        "import math\r\n",
        "\r\n",
        "A = (B_minus_norm - B_plus_norm) / (B_minus_norm + B_plus_norm)\r\n",
        "A_sigma = math.sqrt((1-A**2)/(B_minus_norm + B_plus_norm))"
      ],
      "execution_count": 28,
      "outputs": []
    },
    {
      "cell_type": "code",
      "metadata": {
        "colab": {
          "base_uri": "https://localhost:8080/"
        },
        "id": "YdDugcOGtSJ7",
        "outputId": "9a444949-c3ff-4c1b-8ab1-94566ac4e591"
      },
      "source": [
        "print(\"A is \" + str(A))\r\n",
        "print(\"A_sigma is +/- \" + str(A_sigma))"
      ],
      "execution_count": 29,
      "outputs": [
        {
          "output_type": "stream",
          "text": [
            "A is -0.0586109854408\n",
            "A_sigma is +/- 0.00949190558411\n"
          ],
          "name": "stdout"
        }
      ]
    },
    {
      "cell_type": "markdown",
      "metadata": {
        "id": "r5B--_33okz1"
      },
      "source": [
        "#Congratulations!\r\n",
        "\r\n",
        "You just made your first LHCb physics analysis. Does this seem like a reasonable result? Did we explain why we have an excess of mass in the Universe?"
      ]
    },
    {
      "cell_type": "markdown",
      "metadata": {
        "id": "dzybWZylomGu"
      },
      "source": [
        "## **Bonus content only below here:**"
      ]
    },
    {
      "cell_type": "markdown",
      "metadata": {
        "id": "odpbRqdoou5M"
      },
      "source": [
        "To make a further anaysis, we can look into the intermediate processes.\r\n",
        "\r\n",
        "We have so far considered only that the B meson ultimately decays into three kaons. It may be that on the way, the B meson first decays into a Kaon and another particle, and then from that particle to two Kaons.\r\n",
        "\r\n",
        "We would expect this to be one of three possible modes (for B<sup>+</sup>):\r\n",
        "\r\n",
        "$R^{++} \\rightarrow K_1^+ +K_2^+$\r\n",
        "\r\n",
        "(we don't expect this to happen because of the like charges in the Kaons)\r\n",
        "\r\n",
        "$R^0 \\rightarrow K_1^+ +K_3^-$\r\n",
        "\r\n",
        "$R^0 \\rightarrow K_2^+ +K_3^-$\r\n",
        "\r\n",
        "(Expect symmetric arrangements for B<sup>-</sup>)\r\n",
        "\r\n",
        "To analyse the intermediate states we can measure the invarient masses of the intermediate states and then plot them on what is called a Dalitz plot (this is a 2D plot with two different two body decays (from the three body decay) on each axis)\r\n",
        "\r\n",
        "![Dalitz Plot](https://slideplayer.com/slide/15960097/88/images/15/Dalitz+plot%3A+%CE%9B+c+%2B+%E2%86%92%F0%9D%91%9D+%F0%9D%90%BE+%E2%88%92+%F0%9D%9C%8B+%2B.jpg)\r\n"
      ]
    },
    {
      "cell_type": "code",
      "metadata": {
        "id": "SqJxvZSKo1cW"
      },
      "source": [
        "#Define a function to find the invarient mass of two given Kaons"
      ],
      "execution_count": 30,
      "outputs": []
    },
    {
      "cell_type": "code",
      "metadata": {
        "id": "YPVqECfPo3Wc"
      },
      "source": [
        "#Then, ensuring you're still taking the data after the selection, make a Dalitz plot. This is a 2-D scatter plot (use e.g. TH2F to make the plot where we used TH1F before)\r\n",
        "#Choose an appropriate binning in your scatter "
      ],
      "execution_count": 31,
      "outputs": []
    },
    {
      "cell_type": "markdown",
      "metadata": {
        "id": "qPoPLt4Uo6QB"
      },
      "source": [
        "We can further improve our plot, since two sets of particles on each axis are exactly the same (one positive Kaon, one negative Kaon). So we can plot the maximum of the two values on one axis and the minimum on the other. We can use a quick numpy check and then plot those values."
      ]
    },
    {
      "cell_type": "code",
      "metadata": {
        "id": "KJ_fe2R3o8Aq"
      },
      "source": [
        "#Make the revised Dalitz plot here for B+ mesons"
      ],
      "execution_count": 32,
      "outputs": []
    },
    {
      "cell_type": "code",
      "metadata": {
        "id": "t46slV8Yo-Ed"
      },
      "source": [
        "#Make the revised Dalitz plot here for B- mesons"
      ],
      "execution_count": 33,
      "outputs": []
    },
    {
      "cell_type": "code",
      "metadata": {
        "id": "RfTDh69qo9_q"
      },
      "source": [
        "#Where we have a higher density of points (or a bigger value in the bin) this is indication of an intermediate resonance\r\n",
        "#Check out the possible resonances you have found in the PDG (http://pdg.lbl.gov/2020/tables/contents_tables.html)"
      ],
      "execution_count": 34,
      "outputs": []
    }
  ]
}